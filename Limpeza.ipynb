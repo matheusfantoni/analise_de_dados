{
  "nbformat": 4,
  "nbformat_minor": 0,
  "metadata": {
    "colab": {
      "name": "Limpeza.ipynb",
      "provenance": [],
      "include_colab_link": true
    },
    "kernelspec": {
      "name": "python3",
      "display_name": "Python 3"
    },
    "language_info": {
      "name": "python"
    }
  },
  "cells": [
    {
      "cell_type": "markdown",
      "metadata": {
        "id": "view-in-github",
        "colab_type": "text"
      },
      "source": [
        "<a href=\"https://colab.research.google.com/github/matheusfantoni/analise_de_dados/blob/master/Limpeza.ipynb\" target=\"_parent\"><img src=\"https://colab.research.google.com/assets/colab-badge.svg\" alt=\"Open In Colab\"/></a>"
      ]
    },
    {
      "cell_type": "code",
      "metadata": {
        "id": "bmXH1N_6jofz"
      },
      "source": [
        "# Import libraries\n",
        "import pandas as pd\n",
        "import matplotlib.pyplot as plt\n",
        "import numpy as np\n",
        "import seaborn as sns\n",
        "import missingno as msno\n",
        "import datetime as dt"
      ],
      "execution_count": 1,
      "outputs": []
    },
    {
      "cell_type": "code",
      "metadata": {
        "id": "pBeXkdeulusD"
      },
      "source": [
        "airbnb = pd.read_csv('https://github.com/adelnehme/python-for-spreadsheet-users-webinar/blob/master/datasets/airbnb.csv?raw=true', index_col = 'Unnamed: 0')"
      ],
      "execution_count": null,
      "outputs": []
    },
    {
      "cell_type": "code",
      "metadata": {
        "colab": {
          "base_uri": "https://localhost:8080/",
          "height": 475
        },
        "id": "KFbkS5lHlzLK",
        "outputId": "11748f40-354e-485f-f41f-fdabc210ad4e"
      },
      "source": [
        "airbnb.head()"
      ],
      "execution_count": null,
      "outputs": [
        {
          "output_type": "execute_result",
          "data": {
            "text/html": [
              "<div>\n",
              "<style scoped>\n",
              "    .dataframe tbody tr th:only-of-type {\n",
              "        vertical-align: middle;\n",
              "    }\n",
              "\n",
              "    .dataframe tbody tr th {\n",
              "        vertical-align: top;\n",
              "    }\n",
              "\n",
              "    .dataframe thead th {\n",
              "        text-align: right;\n",
              "    }\n",
              "</style>\n",
              "<table border=\"1\" class=\"dataframe\">\n",
              "  <thead>\n",
              "    <tr style=\"text-align: right;\">\n",
              "      <th></th>\n",
              "      <th>listing_id</th>\n",
              "      <th>name</th>\n",
              "      <th>host_id</th>\n",
              "      <th>host_name</th>\n",
              "      <th>neighbourhood_full</th>\n",
              "      <th>coordinates</th>\n",
              "      <th>room_type</th>\n",
              "      <th>price</th>\n",
              "      <th>number_of_reviews</th>\n",
              "      <th>last_review</th>\n",
              "      <th>reviews_per_month</th>\n",
              "      <th>availability_365</th>\n",
              "      <th>rating</th>\n",
              "      <th>number_of_stays</th>\n",
              "      <th>5_stars</th>\n",
              "      <th>listing_added</th>\n",
              "    </tr>\n",
              "  </thead>\n",
              "  <tbody>\n",
              "    <tr>\n",
              "      <th>0</th>\n",
              "      <td>13740704</td>\n",
              "      <td>Cozy,budget friendly, cable inc, private entra...</td>\n",
              "      <td>20583125</td>\n",
              "      <td>Michel</td>\n",
              "      <td>Brooklyn, Flatlands</td>\n",
              "      <td>(40.63222, -73.93398)</td>\n",
              "      <td>Private room</td>\n",
              "      <td>45$</td>\n",
              "      <td>10</td>\n",
              "      <td>2018-12-12</td>\n",
              "      <td>0.70</td>\n",
              "      <td>85</td>\n",
              "      <td>4.100954</td>\n",
              "      <td>12.0</td>\n",
              "      <td>0.609432</td>\n",
              "      <td>2018-06-08</td>\n",
              "    </tr>\n",
              "    <tr>\n",
              "      <th>1</th>\n",
              "      <td>22005115</td>\n",
              "      <td>Two floor apartment near Central Park</td>\n",
              "      <td>82746113</td>\n",
              "      <td>Cecilia</td>\n",
              "      <td>Manhattan, Upper West Side</td>\n",
              "      <td>(40.78761, -73.96862)</td>\n",
              "      <td>Entire home/apt</td>\n",
              "      <td>135$</td>\n",
              "      <td>1</td>\n",
              "      <td>2019-06-30</td>\n",
              "      <td>1.00</td>\n",
              "      <td>145</td>\n",
              "      <td>3.367600</td>\n",
              "      <td>1.2</td>\n",
              "      <td>0.746135</td>\n",
              "      <td>2018-12-25</td>\n",
              "    </tr>\n",
              "    <tr>\n",
              "      <th>2</th>\n",
              "      <td>21667615</td>\n",
              "      <td>Beautiful 1BR in Brooklyn Heights</td>\n",
              "      <td>78251</td>\n",
              "      <td>Leslie</td>\n",
              "      <td>Brooklyn, Brooklyn Heights</td>\n",
              "      <td>(40.7007, -73.99517)</td>\n",
              "      <td>Entire home/apt</td>\n",
              "      <td>150$</td>\n",
              "      <td>0</td>\n",
              "      <td>NaN</td>\n",
              "      <td>NaN</td>\n",
              "      <td>65</td>\n",
              "      <td>NaN</td>\n",
              "      <td>NaN</td>\n",
              "      <td>NaN</td>\n",
              "      <td>2018-08-15</td>\n",
              "    </tr>\n",
              "    <tr>\n",
              "      <th>3</th>\n",
              "      <td>6425850</td>\n",
              "      <td>Spacious, charming studio</td>\n",
              "      <td>32715865</td>\n",
              "      <td>Yelena</td>\n",
              "      <td>Manhattan, Upper West Side</td>\n",
              "      <td>(40.79169, -73.97498)</td>\n",
              "      <td>Entire home/apt</td>\n",
              "      <td>86$</td>\n",
              "      <td>5</td>\n",
              "      <td>2017-09-23</td>\n",
              "      <td>0.13</td>\n",
              "      <td>0</td>\n",
              "      <td>4.763203</td>\n",
              "      <td>6.0</td>\n",
              "      <td>0.769947</td>\n",
              "      <td>2017-03-20</td>\n",
              "    </tr>\n",
              "    <tr>\n",
              "      <th>4</th>\n",
              "      <td>22986519</td>\n",
              "      <td>Bedroom on the lively Lower East Side</td>\n",
              "      <td>154262349</td>\n",
              "      <td>Brooke</td>\n",
              "      <td>Manhattan, Lower East Side</td>\n",
              "      <td>(40.71884, -73.98354)</td>\n",
              "      <td>Private room</td>\n",
              "      <td>160$</td>\n",
              "      <td>23</td>\n",
              "      <td>2019-06-12</td>\n",
              "      <td>2.29</td>\n",
              "      <td>102</td>\n",
              "      <td>3.822591</td>\n",
              "      <td>27.6</td>\n",
              "      <td>0.649383</td>\n",
              "      <td>2020-10-23</td>\n",
              "    </tr>\n",
              "  </tbody>\n",
              "</table>\n",
              "</div>"
            ],
            "text/plain": [
              "   listing_id  ... listing_added\n",
              "0    13740704  ...    2018-06-08\n",
              "1    22005115  ...    2018-12-25\n",
              "2    21667615  ...    2018-08-15\n",
              "3     6425850  ...    2017-03-20\n",
              "4    22986519  ...    2020-10-23\n",
              "\n",
              "[5 rows x 16 columns]"
            ]
          },
          "metadata": {},
          "execution_count": 3
        }
      ]
    },
    {
      "cell_type": "code",
      "metadata": {
        "id": "R4qn_yCWJ_iD"
      },
      "source": [
        ""
      ],
      "execution_count": null,
      "outputs": []
    },
    {
      "cell_type": "code",
      "metadata": {
        "colab": {
          "base_uri": "https://localhost:8080/"
        },
        "id": "21bi6WRLoff5",
        "outputId": "ffd353f5-07ec-470c-b368-fdbf5c96a458"
      },
      "source": [
        "airbnb.dtypes"
      ],
      "execution_count": null,
      "outputs": [
        {
          "output_type": "execute_result",
          "data": {
            "text/plain": [
              "listing_id              int64\n",
              "name                   object\n",
              "host_id                 int64\n",
              "host_name              object\n",
              "neighbourhood_full     object\n",
              "coordinates            object\n",
              "room_type              object\n",
              "price                  object\n",
              "number_of_reviews       int64\n",
              "last_review            object\n",
              "reviews_per_month     float64\n",
              "availability_365        int64\n",
              "rating                float64\n",
              "number_of_stays       float64\n",
              "5_stars               float64\n",
              "listing_added          object\n",
              "dtype: object"
            ]
          },
          "metadata": {},
          "execution_count": 4
        }
      ]
    },
    {
      "cell_type": "code",
      "metadata": {
        "colab": {
          "base_uri": "https://localhost:8080/"
        },
        "id": "YFUMz6LLoglC",
        "outputId": "0d249a79-e1e0-4b72-9503-6a589fe3a837"
      },
      "source": [
        "# Print number of missing values\n",
        "airbnb.isna().sum()"
      ],
      "execution_count": null,
      "outputs": [
        {
          "output_type": "execute_result",
          "data": {
            "text/plain": [
              "listing_id               0\n",
              "name                     5\n",
              "host_id                  0\n",
              "host_name                2\n",
              "neighbourhood_full       0\n",
              "coordinates              0\n",
              "room_type                0\n",
              "price                  238\n",
              "number_of_reviews        0\n",
              "last_review           2075\n",
              "reviews_per_month     2075\n",
              "availability_365         0\n",
              "rating                2075\n",
              "number_of_stays       2075\n",
              "5_stars               2075\n",
              "listing_added            0\n",
              "dtype: int64"
            ]
          },
          "metadata": {},
          "execution_count": 5
        }
      ]
    },
    {
      "cell_type": "code",
      "metadata": {
        "colab": {
          "base_uri": "https://localhost:8080/",
          "height": 349
        },
        "id": "rJm1gSMHokSV",
        "outputId": "4b8bc49b-b0bd-49be-e5cd-1cb818776aa0"
      },
      "source": [
        "# Visualize the distribution of the rating column\n",
        "sns.distplot(airbnb['rating'], bins = 20)\n",
        "plt.title('Distribution of listing ratings')\n",
        "plt.show()"
      ],
      "execution_count": null,
      "outputs": [
        {
          "output_type": "stream",
          "name": "stderr",
          "text": [
            "/usr/local/lib/python3.7/dist-packages/seaborn/distributions.py:2619: FutureWarning: `distplot` is a deprecated function and will be removed in a future version. Please adapt your code to use either `displot` (a figure-level function with similar flexibility) or `histplot` (an axes-level function for histograms).\n",
            "  warnings.warn(msg, FutureWarning)\n"
          ]
        },
        {
          "output_type": "display_data",
          "data": {
            "image/png": "[encoded data removed]",
            "text/plain": [
              "<Figure size 432x288 with 1 Axes>"
            ]
          },
          "metadata": {
            "needs_background": "light"
          }
        }
      ]
    },
    {
      "cell_type": "markdown",
      "metadata": {
        "id": "t5Pg-K0in2oR"
      },
      "source": [
        "## **Principais Problemas:**\n",
        "\n"
      ]
    },
    {
      "cell_type": "markdown",
      "metadata": {
        "id": "z5m6tCD3Sw0L"
      },
      "source": [
        "### 1) Coordenadas juntas(latitude e longitude) e em formato de string\n"
      ]
    },
    {
      "cell_type": "code",
      "metadata": {
        "id": "auxMWhKroAOs"
      },
      "source": [
        "airbnb['coordinates'] = airbnb['coordinates'].str.replace(\"(\",\"\")\n",
        "airbnb['coordinates'] = airbnb['coordinates'].str.replace(\")\",\"\")"
      ],
      "execution_count": null,
      "outputs": []
    },
    {
      "cell_type": "code",
      "metadata": {
        "id": "81ue2LACKXv_"
      },
      "source": [
        "lat_longitude = airbnb['coordinates'].str.split(\",\" ,expand = True)"
      ],
      "execution_count": null,
      "outputs": []
    },
    {
      "cell_type": "code",
      "metadata": {
        "id": "nlx5vdN0Km-V"
      },
      "source": [
        "airbnb['latitude'] = lat_longitude[0]\n",
        "airbnb['longitude'] = lat_longitude[1]"
      ],
      "execution_count": null,
      "outputs": []
    },
    {
      "cell_type": "code",
      "metadata": {
        "id": "2HRJ67AmLAtq"
      },
      "source": [
        "airbnb['latitude'] = airbnb['latitude'].astype('float')\n",
        "airbnb['longitude'] = airbnb['longitude'].astype('float')"
      ],
      "execution_count": null,
      "outputs": []
    },
    {
      "cell_type": "code",
      "metadata": {
        "id": "OuQdn_ZqLZ9X"
      },
      "source": [
        "airbnb.drop('coordinates', axis=1, inplace=True)"
      ],
      "execution_count": null,
      "outputs": []
    },
    {
      "cell_type": "markdown",
      "metadata": {
        "id": "LtystgCooC_y"
      },
      "source": [
        "### 2) Preço em formato de String com um $"
      ]
    },
    {
      "cell_type": "code",
      "metadata": {
        "id": "3hSFgpP-Lm6R"
      },
      "source": [
        "airbnb['price'] = airbnb['price'].str.replace(\"$\",\"\")"
      ],
      "execution_count": null,
      "outputs": []
    },
    {
      "cell_type": "code",
      "metadata": {
        "id": "eig5deNdL0NV"
      },
      "source": [
        "airbnb['price'] = airbnb['price'].astype('float')"
      ],
      "execution_count": null,
      "outputs": []
    },
    {
      "cell_type": "code",
      "metadata": {
        "colab": {
          "base_uri": "https://localhost:8080/",
          "height": 248
        },
        "id": "qmlmeAqKMBd2",
        "outputId": "5f1109e1-a282-4251-d56b-17a0cb536b3f"
      },
      "source": [
        "airbnb[airbnb['price'] == 0]"
      ],
      "execution_count": null,
      "outputs": [
        {
          "output_type": "execute_result",
          "data": {
            "text/html": [
              "<div>\n",
              "<style scoped>\n",
              "    .dataframe tbody tr th:only-of-type {\n",
              "        vertical-align: middle;\n",
              "    }\n",
              "\n",
              "    .dataframe tbody tr th {\n",
              "        vertical-align: top;\n",
              "    }\n",
              "\n",
              "    .dataframe thead th {\n",
              "        text-align: right;\n",
              "    }\n",
              "</style>\n",
              "<table border=\"1\" class=\"dataframe\">\n",
              "  <thead>\n",
              "    <tr style=\"text-align: right;\">\n",
              "      <th></th>\n",
              "      <th>listing_id</th>\n",
              "      <th>name</th>\n",
              "      <th>host_id</th>\n",
              "      <th>host_name</th>\n",
              "      <th>neighbourhood_full</th>\n",
              "      <th>room_type</th>\n",
              "      <th>price</th>\n",
              "      <th>number_of_reviews</th>\n",
              "      <th>last_review</th>\n",
              "      <th>reviews_per_month</th>\n",
              "      <th>availability_365</th>\n",
              "      <th>rating</th>\n",
              "      <th>number_of_stays</th>\n",
              "      <th>5_stars</th>\n",
              "      <th>listing_added</th>\n",
              "      <th>latitude</th>\n",
              "      <th>longitude</th>\n",
              "    </tr>\n",
              "  </thead>\n",
              "  <tbody>\n",
              "    <tr>\n",
              "      <th>4645</th>\n",
              "      <td>20933849</td>\n",
              "      <td>the best you can find</td>\n",
              "      <td>13709292</td>\n",
              "      <td>Qiuchi</td>\n",
              "      <td>Manhattan, Murray Hill</td>\n",
              "      <td>Entire home/apt</td>\n",
              "      <td>0.0</td>\n",
              "      <td>0</td>\n",
              "      <td>NaN</td>\n",
              "      <td>NaN</td>\n",
              "      <td>0</td>\n",
              "      <td>NaN</td>\n",
              "      <td>NaN</td>\n",
              "      <td>NaN</td>\n",
              "      <td>2018-04-21</td>\n",
              "      <td>40.75091</td>\n",
              "      <td>-73.97597</td>\n",
              "    </tr>\n",
              "    <tr>\n",
              "      <th>8509</th>\n",
              "      <td>18750597</td>\n",
              "      <td>Huge Brooklyn Brownstone Living, Close to it all.</td>\n",
              "      <td>8993084</td>\n",
              "      <td>Kimberly</td>\n",
              "      <td>Brooklyn, Bedford-Stuyvesant</td>\n",
              "      <td>Private room</td>\n",
              "      <td>0.0</td>\n",
              "      <td>1</td>\n",
              "      <td>2018-01-06</td>\n",
              "      <td>0.05</td>\n",
              "      <td>28</td>\n",
              "      <td>3.778723</td>\n",
              "      <td>1.2</td>\n",
              "      <td>0.757915</td>\n",
              "      <td>2017-07-03</td>\n",
              "      <td>40.69023</td>\n",
              "      <td>-73.95428</td>\n",
              "    </tr>\n",
              "  </tbody>\n",
              "</table>\n",
              "</div>"
            ],
            "text/plain": [
              "      listing_id  ... longitude\n",
              "4645    20933849  ... -73.97597\n",
              "8509    18750597  ... -73.95428\n",
              "\n",
              "[2 rows x 17 columns]"
            ]
          },
          "metadata": {},
          "execution_count": 38
        }
      ]
    },
    {
      "cell_type": "code",
      "metadata": {
        "colab": {
          "base_uri": "https://localhost:8080/",
          "height": 333
        },
        "id": "m_qcRi0_M6dn",
        "outputId": "6596e21e-ee53-4262-e897-cbd0640715d3"
      },
      "source": [
        "sns.distplot(airbnb['price'],bins=20)\n",
        "plt.show()"
      ],
      "execution_count": null,
      "outputs": [
        {
          "output_type": "stream",
          "name": "stderr",
          "text": [
            "/usr/local/lib/python3.7/dist-packages/seaborn/distributions.py:2619: FutureWarning: `distplot` is a deprecated function and will be removed in a future version. Please adapt your code to use either `displot` (a figure-level function with similar flexibility) or `histplot` (an axes-level function for histograms).\n",
            "  warnings.warn(msg, FutureWarning)\n"
          ]
        },
        {
          "output_type": "display_data",
          "data": {
            "image/png": "[encoded data removed]",
            "text/plain": [
              "<Figure size 432x288 with 1 Axes>"
            ]
          },
          "metadata": {
            "needs_background": "light"
          }
        }
      ]
    },
    {
      "cell_type": "markdown",
      "metadata": {
        "id": "Yzy2MNHYoE8T"
      },
      "source": [
        "### 3) last_review e listing_added devem ser do tipo datetime"
      ]
    },
    {
      "cell_type": "code",
      "metadata": {
        "id": "i_m7jsiioLE1",
        "colab": {
          "base_uri": "https://localhost:8080/",
          "height": 417
        },
        "outputId": "3f2b9b8d-0e27-46dd-a650-9d2dc4351378"
      },
      "source": [
        "airbnb[['last_review','listing_added']]"
      ],
      "execution_count": null,
      "outputs": [
        {
          "output_type": "execute_result",
          "data": {
            "text/html": [
              "<div>\n",
              "<style scoped>\n",
              "    .dataframe tbody tr th:only-of-type {\n",
              "        vertical-align: middle;\n",
              "    }\n",
              "\n",
              "    .dataframe tbody tr th {\n",
              "        vertical-align: top;\n",
              "    }\n",
              "\n",
              "    .dataframe thead th {\n",
              "        text-align: right;\n",
              "    }\n",
              "</style>\n",
              "<table border=\"1\" class=\"dataframe\">\n",
              "  <thead>\n",
              "    <tr style=\"text-align: right;\">\n",
              "      <th></th>\n",
              "      <th>last_review</th>\n",
              "      <th>listing_added</th>\n",
              "    </tr>\n",
              "  </thead>\n",
              "  <tbody>\n",
              "    <tr>\n",
              "      <th>0</th>\n",
              "      <td>2018-12-12</td>\n",
              "      <td>2018-06-08</td>\n",
              "    </tr>\n",
              "    <tr>\n",
              "      <th>1</th>\n",
              "      <td>2019-06-30</td>\n",
              "      <td>2018-12-25</td>\n",
              "    </tr>\n",
              "    <tr>\n",
              "      <th>2</th>\n",
              "      <td>NaN</td>\n",
              "      <td>2018-08-15</td>\n",
              "    </tr>\n",
              "    <tr>\n",
              "      <th>3</th>\n",
              "      <td>2017-09-23</td>\n",
              "      <td>2017-03-20</td>\n",
              "    </tr>\n",
              "    <tr>\n",
              "      <th>4</th>\n",
              "      <td>2019-06-12</td>\n",
              "      <td>2020-10-23</td>\n",
              "    </tr>\n",
              "    <tr>\n",
              "      <th>...</th>\n",
              "      <td>...</td>\n",
              "      <td>...</td>\n",
              "    </tr>\n",
              "    <tr>\n",
              "      <th>10014</th>\n",
              "      <td>2018-05-28</td>\n",
              "      <td>2017-11-22</td>\n",
              "    </tr>\n",
              "    <tr>\n",
              "      <th>10015</th>\n",
              "      <td>2018-05-06</td>\n",
              "      <td>2017-10-31</td>\n",
              "    </tr>\n",
              "    <tr>\n",
              "      <th>10016</th>\n",
              "      <td>2016-11-27</td>\n",
              "      <td>2016-05-24</td>\n",
              "    </tr>\n",
              "    <tr>\n",
              "      <th>10017</th>\n",
              "      <td>2019-05-31</td>\n",
              "      <td>2018-11-25</td>\n",
              "    </tr>\n",
              "    <tr>\n",
              "      <th>10018</th>\n",
              "      <td>2019-03-12</td>\n",
              "      <td>2018-09-06</td>\n",
              "    </tr>\n",
              "  </tbody>\n",
              "</table>\n",
              "<p>10019 rows × 2 columns</p>\n",
              "</div>"
            ],
            "text/plain": [
              "      last_review listing_added\n",
              "0      2018-12-12    2018-06-08\n",
              "1      2019-06-30    2018-12-25\n",
              "2             NaN    2018-08-15\n",
              "3      2017-09-23    2017-03-20\n",
              "4      2019-06-12    2020-10-23\n",
              "...           ...           ...\n",
              "10014  2018-05-28    2017-11-22\n",
              "10015  2018-05-06    2017-10-31\n",
              "10016  2016-11-27    2016-05-24\n",
              "10017  2019-05-31    2018-11-25\n",
              "10018  2019-03-12    2018-09-06\n",
              "\n",
              "[10019 rows x 2 columns]"
            ]
          },
          "metadata": {},
          "execution_count": 41
        }
      ]
    },
    {
      "cell_type": "code",
      "metadata": {
        "id": "sqV0mDoCNM4s"
      },
      "source": [
        "airbnb['listing_added'] = pd.to_datetime(airbnb['listing_added'],format='%Y-%m-%d')\n",
        "airbnb['last_review'] = pd.to_datetime(airbnb['last_review'],format='%Y-%m-%d')"
      ],
      "execution_count": null,
      "outputs": []
    },
    {
      "cell_type": "code",
      "metadata": {
        "colab": {
          "base_uri": "https://localhost:8080/"
        },
        "id": "J55e9Um0N1S7",
        "outputId": "60163c7c-19a3-4c3d-b993-1e88b1bec724"
      },
      "source": [
        "airbnb[['last_review','listing_added']].dtypes"
      ],
      "execution_count": null,
      "outputs": [
        {
          "output_type": "execute_result",
          "data": {
            "text/plain": [
              "last_review      datetime64[ns]\n",
              "listing_added    datetime64[ns]\n",
              "dtype: object"
            ]
          },
          "metadata": {},
          "execution_count": 44
        }
      ]
    },
    {
      "cell_type": "markdown",
      "metadata": {
        "id": "8zSSejofoLne"
      },
      "source": [
        "### 4) Dados ausentes nas colunas"
      ]
    },
    {
      "cell_type": "code",
      "metadata": {
        "id": "TF1TteSsoPVQ"
      },
      "source": [
        "airbnb['reviews_per_month'].fillna(0,inplace=True)\n",
        "airbnb['availability_365'].fillna(0,inplace=True)\n",
        "airbnb['rating'].fillna(0,inplace=True)\n",
        "airbnb['number_of_stays'].fillna(0,inplace=True)\n",
        "airbnb['5_stars'].fillna(0,inplace=True)"
      ],
      "execution_count": null,
      "outputs": []
    },
    {
      "cell_type": "code",
      "metadata": {
        "id": "6KSC6WLlPIQM"
      },
      "source": [
        "#len(airbnb[airbnb['last_review'].isna()])\n",
        "airbnb['last_review'].fillna(airbnb['listing_added'],inplace=True)"
      ],
      "execution_count": null,
      "outputs": []
    },
    {
      "cell_type": "code",
      "metadata": {
        "id": "uyI7XRn2Qq8s"
      },
      "source": [
        "airbnb['price'].fillna(airbnb['price'].mean(),inplace=True)"
      ],
      "execution_count": null,
      "outputs": []
    },
    {
      "cell_type": "code",
      "metadata": {
        "id": "qbN_Br6KQ4Gq"
      },
      "source": [
        "airbnb['host_name'].fillna('UNNAMED',inplace=True)\n",
        "airbnb['host_name'].fillna('UNNAMED',inplace=True)"
      ],
      "execution_count": null,
      "outputs": []
    },
    {
      "cell_type": "code",
      "metadata": {
        "colab": {
          "base_uri": "https://localhost:8080/"
        },
        "id": "mulSVblAQVc9",
        "outputId": "a3acce01-1d33-43e8-f0bb-be98923c570f"
      },
      "source": [
        "airbnb.isna().sum()"
      ],
      "execution_count": null,
      "outputs": [
        {
          "output_type": "execute_result",
          "data": {
            "text/plain": [
              "listing_id                0\n",
              "name                      0\n",
              "host_id                   0\n",
              "host_name                 0\n",
              "room_type                 0\n",
              "price                     0\n",
              "number_of_reviews         0\n",
              "last_review               0\n",
              "reviews_per_month         0\n",
              "availability_365          0\n",
              "rating                    0\n",
              "number_of_stays           0\n",
              "5_stars                   0\n",
              "listing_added             0\n",
              "latitude                  0\n",
              "longitude                 0\n",
              "neighbourhood             0\n",
              "neighbourhood_detailed    0\n",
              "dtype: int64"
            ]
          },
          "metadata": {},
          "execution_count": 64
        }
      ]
    },
    {
      "cell_type": "markdown",
      "metadata": {
        "id": "envv0kYSoP6B"
      },
      "source": [
        "### 5) Separar o nome da vizinhança (neighbourhood_full)"
      ]
    },
    {
      "cell_type": "code",
      "metadata": {
        "id": "X_URL2xCoUq5"
      },
      "source": [
        "neighbourhood = airbnb['neighbourhood_full'].str.split(\",\" ,expand = True)"
      ],
      "execution_count": null,
      "outputs": []
    },
    {
      "cell_type": "code",
      "metadata": {
        "id": "Y3CxXCmyOREI"
      },
      "source": [
        "airbnb['neighbourhood'] = neighbourhood[0]\n",
        "airbnb['neighbourhood_detailed'] = neighbourhood[1]"
      ],
      "execution_count": null,
      "outputs": []
    },
    {
      "cell_type": "code",
      "metadata": {
        "id": "5eKvNnSzOcF_"
      },
      "source": [
        "airbnb.drop('neighbourhood_full', axis=1, inplace=True)"
      ],
      "execution_count": null,
      "outputs": []
    },
    {
      "cell_type": "code",
      "metadata": {
        "id": "kHDM-H86UBOJ"
      },
      "source": [
        "airbnb['neighbourhood_detailed'] = airbnb['neighbourhood_detailed'].str.strip()"
      ],
      "execution_count": null,
      "outputs": []
    },
    {
      "cell_type": "code",
      "metadata": {
        "colab": {
          "base_uri": "https://localhost:8080/"
        },
        "id": "NqIvtOKDUSq_",
        "outputId": "cacd6b1a-228a-4c0e-c8d0-c191ff0bf73e"
      },
      "source": [
        "airbnb['neighbourhood_detailed'].unique()"
      ],
      "execution_count": null,
      "outputs": [
        {
          "output_type": "execute_result",
          "data": {
            "text/plain": [
              "array(['Flatlands', 'Upper West Side', 'Brooklyn Heights',\n",
              "       'Lower East Side', 'Greenwich Village', 'Harlem', 'Sheepshead Bay',\n",
              "       'Theater District', 'Bushwick', 'Laurelton', 'Mott Haven',\n",
              "       'Flushing', 'Crown Heights', 'Midtown', 'Financial District',\n",
              "       'East Village', 'Park Slope', 'Washington Heights', 'Williamsburg',\n",
              "       'Chelsea', 'Bedford-Stuyvesant', 'Gowanus', 'Upper East Side',\n",
              "       'Ditmars Steinway', 'Cypress Hills', \"Hell's Kitchen\", 'Ridgewood',\n",
              "       'Marble Hill', 'Kips Bay', 'Prospect Heights', 'East New York',\n",
              "       'Concord', 'Stapleton', 'Astoria', 'East Harlem', 'Sunnyside',\n",
              "       'Gramercy', 'Prospect-Lefferts Gardens', 'Sunset Park',\n",
              "       'Forest Hills', 'Windsor Terrace', 'Clinton Hill', 'Murray Hill',\n",
              "       'Flatiron District', 'Greenpoint', 'East Flatbush', 'Tribeca',\n",
              "       'Woodhaven', 'Fort Greene', 'Inwood', 'Chinatown',\n",
              "       'Rockaway Beach', 'Woodside', 'Bayside', 'Bensonhurst', 'SoHo',\n",
              "       'Red Hook', 'West Village', 'South Slope', 'Richmond Hill',\n",
              "       'Jamaica', 'Boerum Hill', 'St. George', 'Clason Point',\n",
              "       'College Point', 'Vinegar Hill', 'Rego Park', 'East Elmhurst',\n",
              "       'Kensington', 'Roosevelt Island', 'Ozone Park', 'Arverne',\n",
              "       'Fordham', 'Wakefield', 'Port Morris', 'Flatbush', 'Elmhurst',\n",
              "       'Bay Ridge', 'Canarsie', 'Little Italy', 'Civic Center',\n",
              "       'St. Albans', 'Morningside Heights', 'Morrisania', 'Two Bridges',\n",
              "       'Concourse', 'Downtown Brooklyn', 'Queens Village', 'Fieldston',\n",
              "       'Allerton', 'Grymes Hill', 'Carroll Gardens', 'Kingsbridge',\n",
              "       'Belle Harbor', 'NoHo', 'Maspeth', 'Borough Park', 'Midwood',\n",
              "       'Fresh Meadows', 'Battery Park City', 'Pelham Bay', 'Van Nest',\n",
              "       'Long Island City', 'Williamsbridge', 'Nolita', 'Kew Gardens',\n",
              "       'Corona', 'Middle Village', 'Jackson Heights', 'Gravesend',\n",
              "       'New Dorp Beach', 'Brighton Beach', 'Belmont', 'Eltingville',\n",
              "       'South Ozone Park', 'Stuyvesant Town', 'Far Rockaway', 'Longwood',\n",
              "       'Glendale', 'Dongan Hills', 'Hollis', 'Columbia St',\n",
              "       'Tompkinsville', 'Springfield Gardens', 'Concourse Village',\n",
              "       'Throgs Neck', 'Cobble Hill', 'South Beach', 'North Riverdale',\n",
              "       'Rosedale', 'Mount Hope', 'Edenwald', 'Parkchester', 'Mill Basin',\n",
              "       'Brownsville', 'Fort Hamilton', 'Howard Beach',\n",
              "       'Claremont Village', 'Pelham Gardens', 'Westchester Square',\n",
              "       'Kew Gardens Hills', 'Arrochar', 'Edgemere', 'Shore Acres',\n",
              "       'Dyker Heights', 'Mount Eden', 'Randall Manor', 'Jamaica Hills',\n",
              "       'Norwood', 'Tottenville', 'Cambria Heights', 'East Morrisania',\n",
              "       'Soundview', 'Morris Park', 'Bronxdale', 'Bellerose', 'Navy Yard',\n",
              "       'Unionport', 'DUMBO', 'Bayswater', 'Tremont', 'Highbridge',\n",
              "       'Graniteville', 'Baychester', 'Morris Heights', 'Coney Island',\n",
              "       'Briarwood', 'West Farms', \"Prince's Bay\", 'University Heights',\n",
              "       'Clifton', 'Bay Terrace', 'City Island', 'West Brighton',\n",
              "       'Douglaston', 'Schuylerville', 'Port Richmond', 'Oakwood',\n",
              "       'Westerleigh', 'Little Neck', 'Holliswood', 'Bergen Beach',\n",
              "       'Castle Hill', 'Olinville', 'Rosebank', 'Melrose', 'Whitestone',\n",
              "       'Grant City', 'Riverdale', 'Neponsit', 'Bath Beach',\n",
              "       'Mariners Harbor', 'Hunts Point', 'Great Kills', 'Midland Beach',\n",
              "       'Eastchester', 'Jamaica Estates', 'New Springville'], dtype=object)"
            ]
          },
          "metadata": {},
          "execution_count": 85
        }
      ]
    },
    {
      "cell_type": "code",
      "metadata": {
        "colab": {
          "base_uri": "https://localhost:8080/",
          "height": 974
        },
        "id": "8BXhYKCNOdoY",
        "outputId": "57a24928-013d-425b-d653-52349b6b464c"
      },
      "source": [
        "airbnb"
      ],
      "execution_count": null,
      "outputs": [
        {
          "output_type": "execute_result",
          "data": {
            "text/html": [
              "<div>\n",
              "<style scoped>\n",
              "    .dataframe tbody tr th:only-of-type {\n",
              "        vertical-align: middle;\n",
              "    }\n",
              "\n",
              "    .dataframe tbody tr th {\n",
              "        vertical-align: top;\n",
              "    }\n",
              "\n",
              "    .dataframe thead th {\n",
              "        text-align: right;\n",
              "    }\n",
              "</style>\n",
              "<table border=\"1\" class=\"dataframe\">\n",
              "  <thead>\n",
              "    <tr style=\"text-align: right;\">\n",
              "      <th></th>\n",
              "      <th>listing_id</th>\n",
              "      <th>name</th>\n",
              "      <th>host_id</th>\n",
              "      <th>host_name</th>\n",
              "      <th>room_type</th>\n",
              "      <th>price</th>\n",
              "      <th>number_of_reviews</th>\n",
              "      <th>last_review</th>\n",
              "      <th>reviews_per_month</th>\n",
              "      <th>availability_365</th>\n",
              "      <th>rating</th>\n",
              "      <th>number_of_stays</th>\n",
              "      <th>5_stars</th>\n",
              "      <th>listing_added</th>\n",
              "      <th>latitude</th>\n",
              "      <th>longitude</th>\n",
              "      <th>neighbourhood</th>\n",
              "      <th>neighbourhood_detailed</th>\n",
              "    </tr>\n",
              "  </thead>\n",
              "  <tbody>\n",
              "    <tr>\n",
              "      <th>0</th>\n",
              "      <td>13740704</td>\n",
              "      <td>Cozy,budget friendly, cable inc, private entra...</td>\n",
              "      <td>20583125</td>\n",
              "      <td>Michel</td>\n",
              "      <td>Private room</td>\n",
              "      <td>45.0</td>\n",
              "      <td>10</td>\n",
              "      <td>2018-12-12</td>\n",
              "      <td>0.70</td>\n",
              "      <td>85</td>\n",
              "      <td>4.100954</td>\n",
              "      <td>12.0</td>\n",
              "      <td>0.609432</td>\n",
              "      <td>2018-06-08</td>\n",
              "      <td>40.63222</td>\n",
              "      <td>-73.93398</td>\n",
              "      <td>Brooklyn</td>\n",
              "      <td>Flatlands</td>\n",
              "    </tr>\n",
              "    <tr>\n",
              "      <th>1</th>\n",
              "      <td>22005115</td>\n",
              "      <td>Two floor apartment near Central Park</td>\n",
              "      <td>82746113</td>\n",
              "      <td>Cecilia</td>\n",
              "      <td>Entire home/apt</td>\n",
              "      <td>135.0</td>\n",
              "      <td>1</td>\n",
              "      <td>2019-06-30</td>\n",
              "      <td>1.00</td>\n",
              "      <td>145</td>\n",
              "      <td>3.367600</td>\n",
              "      <td>1.2</td>\n",
              "      <td>0.746135</td>\n",
              "      <td>2018-12-25</td>\n",
              "      <td>40.78761</td>\n",
              "      <td>-73.96862</td>\n",
              "      <td>Manhattan</td>\n",
              "      <td>Upper West Side</td>\n",
              "    </tr>\n",
              "    <tr>\n",
              "      <th>2</th>\n",
              "      <td>21667615</td>\n",
              "      <td>Beautiful 1BR in Brooklyn Heights</td>\n",
              "      <td>78251</td>\n",
              "      <td>Leslie</td>\n",
              "      <td>Entire home/apt</td>\n",
              "      <td>150.0</td>\n",
              "      <td>0</td>\n",
              "      <td>NaT</td>\n",
              "      <td>NaN</td>\n",
              "      <td>65</td>\n",
              "      <td>NaN</td>\n",
              "      <td>NaN</td>\n",
              "      <td>NaN</td>\n",
              "      <td>2018-08-15</td>\n",
              "      <td>40.70070</td>\n",
              "      <td>-73.99517</td>\n",
              "      <td>Brooklyn</td>\n",
              "      <td>Brooklyn Heights</td>\n",
              "    </tr>\n",
              "    <tr>\n",
              "      <th>3</th>\n",
              "      <td>6425850</td>\n",
              "      <td>Spacious, charming studio</td>\n",
              "      <td>32715865</td>\n",
              "      <td>Yelena</td>\n",
              "      <td>Entire home/apt</td>\n",
              "      <td>86.0</td>\n",
              "      <td>5</td>\n",
              "      <td>2017-09-23</td>\n",
              "      <td>0.13</td>\n",
              "      <td>0</td>\n",
              "      <td>4.763203</td>\n",
              "      <td>6.0</td>\n",
              "      <td>0.769947</td>\n",
              "      <td>2017-03-20</td>\n",
              "      <td>40.79169</td>\n",
              "      <td>-73.97498</td>\n",
              "      <td>Manhattan</td>\n",
              "      <td>Upper West Side</td>\n",
              "    </tr>\n",
              "    <tr>\n",
              "      <th>4</th>\n",
              "      <td>22986519</td>\n",
              "      <td>Bedroom on the lively Lower East Side</td>\n",
              "      <td>154262349</td>\n",
              "      <td>Brooke</td>\n",
              "      <td>Private room</td>\n",
              "      <td>160.0</td>\n",
              "      <td>23</td>\n",
              "      <td>2019-06-12</td>\n",
              "      <td>2.29</td>\n",
              "      <td>102</td>\n",
              "      <td>3.822591</td>\n",
              "      <td>27.6</td>\n",
              "      <td>0.649383</td>\n",
              "      <td>2020-10-23</td>\n",
              "      <td>40.71884</td>\n",
              "      <td>-73.98354</td>\n",
              "      <td>Manhattan</td>\n",
              "      <td>Lower East Side</td>\n",
              "    </tr>\n",
              "    <tr>\n",
              "      <th>...</th>\n",
              "      <td>...</td>\n",
              "      <td>...</td>\n",
              "      <td>...</td>\n",
              "      <td>...</td>\n",
              "      <td>...</td>\n",
              "      <td>...</td>\n",
              "      <td>...</td>\n",
              "      <td>...</td>\n",
              "      <td>...</td>\n",
              "      <td>...</td>\n",
              "      <td>...</td>\n",
              "      <td>...</td>\n",
              "      <td>...</td>\n",
              "      <td>...</td>\n",
              "      <td>...</td>\n",
              "      <td>...</td>\n",
              "      <td>...</td>\n",
              "      <td>...</td>\n",
              "    </tr>\n",
              "    <tr>\n",
              "      <th>10014</th>\n",
              "      <td>22307861</td>\n",
              "      <td>Lovely 1BR Harlem apartment</td>\n",
              "      <td>16004068</td>\n",
              "      <td>Rachel</td>\n",
              "      <td>Entire home/apt</td>\n",
              "      <td>105.0</td>\n",
              "      <td>4</td>\n",
              "      <td>2018-05-28</td>\n",
              "      <td>0.21</td>\n",
              "      <td>0</td>\n",
              "      <td>4.757555</td>\n",
              "      <td>4.8</td>\n",
              "      <td>0.639223</td>\n",
              "      <td>2017-11-22</td>\n",
              "      <td>40.80379</td>\n",
              "      <td>-73.95257</td>\n",
              "      <td>Manhattan</td>\n",
              "      <td>Harlem</td>\n",
              "    </tr>\n",
              "    <tr>\n",
              "      <th>10015</th>\n",
              "      <td>953275</td>\n",
              "      <td>Apartment For Your Holidays in NYC!</td>\n",
              "      <td>4460034</td>\n",
              "      <td>Alain</td>\n",
              "      <td>Entire home/apt</td>\n",
              "      <td>125.0</td>\n",
              "      <td>50</td>\n",
              "      <td>2018-05-06</td>\n",
              "      <td>0.66</td>\n",
              "      <td>188</td>\n",
              "      <td>4.344704</td>\n",
              "      <td>60.0</td>\n",
              "      <td>0.648778</td>\n",
              "      <td>2017-10-31</td>\n",
              "      <td>40.79531</td>\n",
              "      <td>-73.93330</td>\n",
              "      <td>Manhattan</td>\n",
              "      <td>East Harlem</td>\n",
              "    </tr>\n",
              "    <tr>\n",
              "      <th>10016</th>\n",
              "      <td>3452835</td>\n",
              "      <td>Artsy, Garden Getaway in Central Brooklyn</td>\n",
              "      <td>666862</td>\n",
              "      <td>Amy</td>\n",
              "      <td>Entire home/apt</td>\n",
              "      <td>100.0</td>\n",
              "      <td>45</td>\n",
              "      <td>2016-11-27</td>\n",
              "      <td>0.98</td>\n",
              "      <td>0</td>\n",
              "      <td>3.966214</td>\n",
              "      <td>54.0</td>\n",
              "      <td>0.631713</td>\n",
              "      <td>2016-05-24</td>\n",
              "      <td>40.68266</td>\n",
              "      <td>-73.96743</td>\n",
              "      <td>Brooklyn</td>\n",
              "      <td>Clinton Hill</td>\n",
              "    </tr>\n",
              "    <tr>\n",
              "      <th>10017</th>\n",
              "      <td>23540194</td>\n",
              "      <td>Immaculate townhouse in Clinton Hill, Brooklyn</td>\n",
              "      <td>67176930</td>\n",
              "      <td>Sophie</td>\n",
              "      <td>Entire home/apt</td>\n",
              "      <td>450.0</td>\n",
              "      <td>2</td>\n",
              "      <td>2019-05-31</td>\n",
              "      <td>0.17</td>\n",
              "      <td>99</td>\n",
              "      <td>4.078581</td>\n",
              "      <td>2.4</td>\n",
              "      <td>0.703360</td>\n",
              "      <td>2018-11-25</td>\n",
              "      <td>40.68832</td>\n",
              "      <td>-73.96366</td>\n",
              "      <td>Brooklyn</td>\n",
              "      <td>Clinton Hill</td>\n",
              "    </tr>\n",
              "    <tr>\n",
              "      <th>10018</th>\n",
              "      <td>32876011</td>\n",
              "      <td>Private room in a perfect location in the city</td>\n",
              "      <td>59583716</td>\n",
              "      <td>Shai</td>\n",
              "      <td>Private room</td>\n",
              "      <td>90.0</td>\n",
              "      <td>1</td>\n",
              "      <td>2019-03-12</td>\n",
              "      <td>0.25</td>\n",
              "      <td>8</td>\n",
              "      <td>4.069096</td>\n",
              "      <td>1.2</td>\n",
              "      <td>0.720249</td>\n",
              "      <td>2018-09-06</td>\n",
              "      <td>40.76174</td>\n",
              "      <td>-73.96625</td>\n",
              "      <td>Manhattan</td>\n",
              "      <td>Upper East Side</td>\n",
              "    </tr>\n",
              "  </tbody>\n",
              "</table>\n",
              "<p>10019 rows × 18 columns</p>\n",
              "</div>"
            ],
            "text/plain": [
              "       listing_id  ... neighbourhood_detailed\n",
              "0        13740704  ...              Flatlands\n",
              "1        22005115  ...        Upper West Side\n",
              "2        21667615  ...       Brooklyn Heights\n",
              "3         6425850  ...        Upper West Side\n",
              "4        22986519  ...        Lower East Side\n",
              "...           ...  ...                    ...\n",
              "10014    22307861  ...                 Harlem\n",
              "10015      953275  ...            East Harlem\n",
              "10016     3452835  ...           Clinton Hill\n",
              "10017    23540194  ...           Clinton Hill\n",
              "10018    32876011  ...        Upper East Side\n",
              "\n",
              "[10019 rows x 18 columns]"
            ]
          },
          "metadata": {},
          "execution_count": 49
        }
      ]
    },
    {
      "cell_type": "markdown",
      "metadata": {
        "id": "ODhiP34moVAW"
      },
      "source": [
        "### 6) Categorizar em números  variável room_type em apenas 3 tipos principais"
      ]
    },
    {
      "cell_type": "code",
      "metadata": {
        "id": "-ffNlQkfReAe"
      },
      "source": [
        "airbnb['room_type'] = airbnb['room_type'].str.lower()"
      ],
      "execution_count": null,
      "outputs": []
    },
    {
      "cell_type": "code",
      "metadata": {
        "id": "euWSwZT8RsTW"
      },
      "source": [
        "airbnb['room_type'] = airbnb['room_type'].str.strip()"
      ],
      "execution_count": null,
      "outputs": []
    },
    {
      "cell_type": "code",
      "metadata": {
        "colab": {
          "base_uri": "https://localhost:8080/"
        },
        "id": "uwM7ROnbRxZE",
        "outputId": "4f3c3e2a-553e-4ae6-e079-f50fb5f9e851"
      },
      "source": [
        "airbnb['room_type'].unique()"
      ],
      "execution_count": null,
      "outputs": [
        {
          "output_type": "execute_result",
          "data": {
            "text/plain": [
              "array(['private room', 'entire home/apt', 'private', 'shared room',\n",
              "       'home'], dtype=object)"
            ]
          },
          "metadata": {},
          "execution_count": 71
        }
      ]
    },
    {
      "cell_type": "code",
      "metadata": {
        "id": "A8XyTaXiSMRu"
      },
      "source": [
        "mappings = {\n",
        "    'private room': 1,\n",
        "    'private': 1,\n",
        "    'entire home/apt': 2,\n",
        "    'home': 2,\n",
        "    'shared room': 3\n",
        "}\n",
        "\n",
        "airbnb['room_type'] = airbnb['room_type'].replace(mappings)"
      ],
      "execution_count": null,
      "outputs": []
    },
    {
      "cell_type": "code",
      "metadata": {
        "id": "-3Rf1XhbSdWY"
      },
      "source": [
        "airbnb['room_type'] = airbnb['room_type'].astype('int')"
      ],
      "execution_count": null,
      "outputs": []
    },
    {
      "cell_type": "code",
      "metadata": {
        "colab": {
          "base_uri": "https://localhost:8080/"
        },
        "id": "xvKf41dTSh_Z",
        "outputId": "ff4fc4da-1962-47c3-bd06-6200f2b53d11"
      },
      "source": [
        "airbnb['room_type']"
      ],
      "execution_count": null,
      "outputs": [
        {
          "output_type": "execute_result",
          "data": {
            "text/plain": [
              "0        1\n",
              "1        2\n",
              "2        2\n",
              "3        2\n",
              "4        1\n",
              "        ..\n",
              "10014    2\n",
              "10015    2\n",
              "10016    2\n",
              "10017    2\n",
              "10018    1\n",
              "Name: room_type, Length: 10019, dtype: int64"
            ]
          },
          "metadata": {},
          "execution_count": 75
        }
      ]
    },
    {
      "cell_type": "markdown",
      "metadata": {
        "id": "ZW1C8f_FpKH5"
      },
      "source": [
        "### 7) Remover linhas com rating > 5"
      ]
    },
    {
      "cell_type": "code",
      "metadata": {
        "id": "1wDvXZftpJcQ",
        "colab": {
          "base_uri": "https://localhost:8080/",
          "height": 346
        },
        "outputId": "71d12e79-e66e-4eca-cbce-cab1dde347b9"
      },
      "source": [
        "airbnb[airbnb['rating'] > 5]"
      ],
      "execution_count": null,
      "outputs": [
        {
          "output_type": "execute_result",
          "data": {
            "text/html": [
              "<div>\n",
              "<style scoped>\n",
              "    .dataframe tbody tr th:only-of-type {\n",
              "        vertical-align: middle;\n",
              "    }\n",
              "\n",
              "    .dataframe tbody tr th {\n",
              "        vertical-align: top;\n",
              "    }\n",
              "\n",
              "    .dataframe thead th {\n",
              "        text-align: right;\n",
              "    }\n",
              "</style>\n",
              "<table border=\"1\" class=\"dataframe\">\n",
              "  <thead>\n",
              "    <tr style=\"text-align: right;\">\n",
              "      <th></th>\n",
              "      <th>listing_id</th>\n",
              "      <th>name</th>\n",
              "      <th>host_id</th>\n",
              "      <th>host_name</th>\n",
              "      <th>room_type</th>\n",
              "      <th>price</th>\n",
              "      <th>number_of_reviews</th>\n",
              "      <th>last_review</th>\n",
              "      <th>reviews_per_month</th>\n",
              "      <th>availability_365</th>\n",
              "      <th>rating</th>\n",
              "      <th>number_of_stays</th>\n",
              "      <th>5_stars</th>\n",
              "      <th>listing_added</th>\n",
              "      <th>latitude</th>\n",
              "      <th>longitude</th>\n",
              "      <th>neighbourhood</th>\n",
              "      <th>neighbourhood_detailed</th>\n",
              "    </tr>\n",
              "  </thead>\n",
              "  <tbody>\n",
              "    <tr>\n",
              "      <th>1925</th>\n",
              "      <td>36411407</td>\n",
              "      <td>Brand new 1 bedroom steps from Soho!</td>\n",
              "      <td>33917435</td>\n",
              "      <td>Mike</td>\n",
              "      <td>2</td>\n",
              "      <td>150.0</td>\n",
              "      <td>1</td>\n",
              "      <td>2019-07-06</td>\n",
              "      <td>1.0</td>\n",
              "      <td>13</td>\n",
              "      <td>5.017040</td>\n",
              "      <td>1.2</td>\n",
              "      <td>0.870161</td>\n",
              "      <td>2018-12-31</td>\n",
              "      <td>40.71825</td>\n",
              "      <td>-73.99019</td>\n",
              "      <td>Manhattan</td>\n",
              "      <td>Lower East Side</td>\n",
              "    </tr>\n",
              "    <tr>\n",
              "      <th>6732</th>\n",
              "      <td>36390226</td>\n",
              "      <td>Comfortable clean Bedstuy private room</td>\n",
              "      <td>267932490</td>\n",
              "      <td>Angela</td>\n",
              "      <td>1</td>\n",
              "      <td>45.0</td>\n",
              "      <td>2</td>\n",
              "      <td>2019-07-08</td>\n",
              "      <td>2.0</td>\n",
              "      <td>14</td>\n",
              "      <td>5.087091</td>\n",
              "      <td>2.4</td>\n",
              "      <td>0.950339</td>\n",
              "      <td>2019-01-02</td>\n",
              "      <td>40.69551</td>\n",
              "      <td>-73.93951</td>\n",
              "      <td>Brooklyn</td>\n",
              "      <td>Bedford-Stuyvesant</td>\n",
              "    </tr>\n",
              "    <tr>\n",
              "      <th>8821</th>\n",
              "      <td>36413632</td>\n",
              "      <td>Spacious 2BR in Beautiful Brooklyn Heights</td>\n",
              "      <td>6608220</td>\n",
              "      <td>Matt</td>\n",
              "      <td>2</td>\n",
              "      <td>550.0</td>\n",
              "      <td>1</td>\n",
              "      <td>2019-07-07</td>\n",
              "      <td>1.0</td>\n",
              "      <td>230</td>\n",
              "      <td>5.181114</td>\n",
              "      <td>1.2</td>\n",
              "      <td>0.805418</td>\n",
              "      <td>2019-01-01</td>\n",
              "      <td>40.69827</td>\n",
              "      <td>-73.99649</td>\n",
              "      <td>Brooklyn</td>\n",
              "      <td>Brooklyn Heights</td>\n",
              "    </tr>\n",
              "  </tbody>\n",
              "</table>\n",
              "</div>"
            ],
            "text/plain": [
              "      listing_id  ... neighbourhood_detailed\n",
              "1925    36411407  ...        Lower East Side\n",
              "6732    36390226  ...     Bedford-Stuyvesant\n",
              "8821    36413632  ...       Brooklyn Heights\n",
              "\n",
              "[3 rows x 18 columns]"
            ]
          },
          "metadata": {},
          "execution_count": 76
        }
      ]
    },
    {
      "cell_type": "code",
      "metadata": {
        "id": "9lKaYLxzTIvQ"
      },
      "source": [
        "airbnb.drop(airbnb[airbnb['rating'] > 5.0].index, inplace = True)"
      ],
      "execution_count": null,
      "outputs": []
    },
    {
      "cell_type": "code",
      "metadata": {
        "colab": {
          "base_uri": "https://localhost:8080/",
          "height": 350
        },
        "id": "Qq_S1MafTK-v",
        "outputId": "1424f2e4-7864-4b66-8762-31b4f718555a"
      },
      "source": [
        "sns.distplot(airbnb['rating'], bins=20)"
      ],
      "execution_count": null,
      "outputs": [
        {
          "output_type": "stream",
          "name": "stderr",
          "text": [
            "/usr/local/lib/python3.7/dist-packages/seaborn/distributions.py:2619: FutureWarning: `distplot` is a deprecated function and will be removed in a future version. Please adapt your code to use either `displot` (a figure-level function with similar flexibility) or `histplot` (an axes-level function for histograms).\n",
            "  warnings.warn(msg, FutureWarning)\n"
          ]
        },
        {
          "output_type": "execute_result",
          "data": {
            "text/plain": [
              "<matplotlib.axes._subplots.AxesSubplot at 0x7fa5c3441e90>"
            ]
          },
          "metadata": {},
          "execution_count": 79
        },
        {
          "output_type": "display_data",
          "data": {
            "image/png": "[encoded data removed]",
            "text/plain": [
              "<Figure size 432x288 with 1 Axes>"
            ]
          },
          "metadata": {
            "needs_background": "light"
          }
        }
      ]
    },
    {
      "cell_type": "code",
      "metadata": {
        "colab": {
          "base_uri": "https://localhost:8080/"
        },
        "id": "PfucW3ujTbBM",
        "outputId": "2c6f62ef-2b84-4318-dc57-c9ee5de57ac9"
      },
      "source": [
        "airbnb['rating'].min()"
      ],
      "execution_count": null,
      "outputs": [
        {
          "output_type": "execute_result",
          "data": {
            "text/plain": [
              "0.0"
            ]
          },
          "metadata": {},
          "execution_count": 81
        }
      ]
    },
    {
      "cell_type": "markdown",
      "metadata": {
        "id": "GnoANyb7pTSF"
      },
      "source": [
        "### 8) Remover dados duplicados"
      ]
    },
    {
      "cell_type": "code",
      "metadata": {
        "id": "etFrgVY6VDT1"
      },
      "source": [
        "airbnb = airbnb.drop_duplicates()"
      ],
      "execution_count": null,
      "outputs": []
    },
    {
      "cell_type": "code",
      "metadata": {
        "id": "ROzKX0qgpS7T"
      },
      "source": [
        "duplicates = airbnb.duplicated(subset='listing_id', keep=False)"
      ],
      "execution_count": null,
      "outputs": []
    },
    {
      "cell_type": "code",
      "metadata": {
        "colab": {
          "base_uri": "https://localhost:8080/",
          "height": 1000
        },
        "id": "W8kzG3zoUtPu",
        "outputId": "c0b84e13-0f7e-4569-f9a8-780953043b7e"
      },
      "source": [
        "airbnb[duplicates].sort_values('listing_id')"
      ],
      "execution_count": null,
      "outputs": [
        {
          "output_type": "execute_result",
          "data": {
            "text/html": [
              "<div>\n",
              "<style scoped>\n",
              "    .dataframe tbody tr th:only-of-type {\n",
              "        vertical-align: middle;\n",
              "    }\n",
              "\n",
              "    .dataframe tbody tr th {\n",
              "        vertical-align: top;\n",
              "    }\n",
              "\n",
              "    .dataframe thead th {\n",
              "        text-align: right;\n",
              "    }\n",
              "</style>\n",
              "<table border=\"1\" class=\"dataframe\">\n",
              "  <thead>\n",
              "    <tr style=\"text-align: right;\">\n",
              "      <th></th>\n",
              "      <th>listing_id</th>\n",
              "      <th>name</th>\n",
              "      <th>host_id</th>\n",
              "      <th>host_name</th>\n",
              "      <th>room_type</th>\n",
              "      <th>price</th>\n",
              "      <th>number_of_reviews</th>\n",
              "      <th>last_review</th>\n",
              "      <th>reviews_per_month</th>\n",
              "      <th>availability_365</th>\n",
              "      <th>rating</th>\n",
              "      <th>number_of_stays</th>\n",
              "      <th>5_stars</th>\n",
              "      <th>listing_added</th>\n",
              "      <th>latitude</th>\n",
              "      <th>longitude</th>\n",
              "      <th>neighbourhood</th>\n",
              "      <th>neighbourhood_detailed</th>\n",
              "    </tr>\n",
              "  </thead>\n",
              "  <tbody>\n",
              "    <tr>\n",
              "      <th>5761</th>\n",
              "      <td>2044392</td>\n",
              "      <td>The heart of Williamsburg 2 bedroom</td>\n",
              "      <td>620218</td>\n",
              "      <td>Sarah</td>\n",
              "      <td>2</td>\n",
              "      <td>250.0</td>\n",
              "      <td>0</td>\n",
              "      <td>2018-05-24</td>\n",
              "      <td>0.00</td>\n",
              "      <td>0</td>\n",
              "      <td>0.000000</td>\n",
              "      <td>0.0</td>\n",
              "      <td>0.000000</td>\n",
              "      <td>2018-05-24</td>\n",
              "      <td>40.71257</td>\n",
              "      <td>-73.96149</td>\n",
              "      <td>Brooklyn</td>\n",
              "      <td>Williamsburg</td>\n",
              "    </tr>\n",
              "    <tr>\n",
              "      <th>8699</th>\n",
              "      <td>2044392</td>\n",
              "      <td>The heart of Williamsburg 2 bedroom</td>\n",
              "      <td>620218</td>\n",
              "      <td>Sarah</td>\n",
              "      <td>2</td>\n",
              "      <td>245.0</td>\n",
              "      <td>0</td>\n",
              "      <td>2018-08-09</td>\n",
              "      <td>0.00</td>\n",
              "      <td>0</td>\n",
              "      <td>0.000000</td>\n",
              "      <td>0.0</td>\n",
              "      <td>0.000000</td>\n",
              "      <td>2018-08-09</td>\n",
              "      <td>40.71257</td>\n",
              "      <td>-73.96149</td>\n",
              "      <td>Brooklyn</td>\n",
              "      <td>Williamsburg</td>\n",
              "    </tr>\n",
              "    <tr>\n",
              "      <th>2871</th>\n",
              "      <td>4244242</td>\n",
              "      <td>Best Bedroom in Bedstuy/Bushwick. Ensuite bath...</td>\n",
              "      <td>22023014</td>\n",
              "      <td>BrooklynSleeps</td>\n",
              "      <td>1</td>\n",
              "      <td>70.0</td>\n",
              "      <td>110</td>\n",
              "      <td>2019-06-23</td>\n",
              "      <td>1.96</td>\n",
              "      <td>323</td>\n",
              "      <td>4.962314</td>\n",
              "      <td>132.0</td>\n",
              "      <td>0.809882</td>\n",
              "      <td>2018-12-18</td>\n",
              "      <td>40.69496</td>\n",
              "      <td>-73.93949</td>\n",
              "      <td>Brooklyn</td>\n",
              "      <td>Bedford-Stuyvesant</td>\n",
              "    </tr>\n",
              "    <tr>\n",
              "      <th>4187</th>\n",
              "      <td>4244242</td>\n",
              "      <td>Best Bedroom in Bedstuy/Bushwick. Ensuite bath...</td>\n",
              "      <td>22023014</td>\n",
              "      <td>BrooklynSleeps</td>\n",
              "      <td>1</td>\n",
              "      <td>73.0</td>\n",
              "      <td>110</td>\n",
              "      <td>2019-06-23</td>\n",
              "      <td>1.96</td>\n",
              "      <td>323</td>\n",
              "      <td>4.962314</td>\n",
              "      <td>132.0</td>\n",
              "      <td>0.809882</td>\n",
              "      <td>2018-12-18</td>\n",
              "      <td>40.69496</td>\n",
              "      <td>-73.93949</td>\n",
              "      <td>Brooklyn</td>\n",
              "      <td>Bedford-Stuyvesant</td>\n",
              "    </tr>\n",
              "    <tr>\n",
              "      <th>77</th>\n",
              "      <td>7319856</td>\n",
              "      <td>450ft Square Studio in Gramercy NY</td>\n",
              "      <td>11773680</td>\n",
              "      <td>Adam</td>\n",
              "      <td>2</td>\n",
              "      <td>289.0</td>\n",
              "      <td>4</td>\n",
              "      <td>2016-05-22</td>\n",
              "      <td>0.09</td>\n",
              "      <td>225</td>\n",
              "      <td>3.903764</td>\n",
              "      <td>4.8</td>\n",
              "      <td>0.756381</td>\n",
              "      <td>2015-11-17</td>\n",
              "      <td>40.73813</td>\n",
              "      <td>-73.98098</td>\n",
              "      <td>Manhattan</td>\n",
              "      <td>Kips Bay</td>\n",
              "    </tr>\n",
              "    <tr>\n",
              "      <th>2255</th>\n",
              "      <td>7319856</td>\n",
              "      <td>450ft Square Studio in Gramercy NY</td>\n",
              "      <td>11773680</td>\n",
              "      <td>Adam</td>\n",
              "      <td>2</td>\n",
              "      <td>280.0</td>\n",
              "      <td>4</td>\n",
              "      <td>2016-05-22</td>\n",
              "      <td>0.09</td>\n",
              "      <td>225</td>\n",
              "      <td>3.903764</td>\n",
              "      <td>4.8</td>\n",
              "      <td>0.756381</td>\n",
              "      <td>2015-11-17</td>\n",
              "      <td>40.73813</td>\n",
              "      <td>-73.98098</td>\n",
              "      <td>Manhattan</td>\n",
              "      <td>Kips Bay</td>\n",
              "    </tr>\n",
              "    <tr>\n",
              "      <th>555</th>\n",
              "      <td>9078222</td>\n",
              "      <td>Prospect Park 3 bdrm, Sleeps 8 (#2)</td>\n",
              "      <td>47219962</td>\n",
              "      <td>Babajide</td>\n",
              "      <td>2</td>\n",
              "      <td>154.0</td>\n",
              "      <td>123</td>\n",
              "      <td>2019-07-01</td>\n",
              "      <td>2.74</td>\n",
              "      <td>263</td>\n",
              "      <td>3.466881</td>\n",
              "      <td>147.6</td>\n",
              "      <td>0.738191</td>\n",
              "      <td>2018-12-26</td>\n",
              "      <td>40.66086</td>\n",
              "      <td>-73.96159</td>\n",
              "      <td>Brooklyn</td>\n",
              "      <td>Prospect-Lefferts Gardens</td>\n",
              "    </tr>\n",
              "    <tr>\n",
              "      <th>7933</th>\n",
              "      <td>9078222</td>\n",
              "      <td>Prospect Park 3 bdrm, Sleeps 8 (#2)</td>\n",
              "      <td>47219962</td>\n",
              "      <td>Babajide</td>\n",
              "      <td>2</td>\n",
              "      <td>150.0</td>\n",
              "      <td>123</td>\n",
              "      <td>2019-07-01</td>\n",
              "      <td>2.74</td>\n",
              "      <td>263</td>\n",
              "      <td>3.466881</td>\n",
              "      <td>147.6</td>\n",
              "      <td>0.738191</td>\n",
              "      <td>2018-12-26</td>\n",
              "      <td>40.66086</td>\n",
              "      <td>-73.96159</td>\n",
              "      <td>Brooklyn</td>\n",
              "      <td>Prospect-Lefferts Gardens</td>\n",
              "    </tr>\n",
              "    <tr>\n",
              "      <th>1481</th>\n",
              "      <td>15027024</td>\n",
              "      <td>Newly renovated 1bd on lively &amp; historic St Marks</td>\n",
              "      <td>8344620</td>\n",
              "      <td>Ethan</td>\n",
              "      <td>2</td>\n",
              "      <td>180.0</td>\n",
              "      <td>10</td>\n",
              "      <td>2018-12-31</td>\n",
              "      <td>0.30</td>\n",
              "      <td>0</td>\n",
              "      <td>3.969729</td>\n",
              "      <td>12.0</td>\n",
              "      <td>0.772513</td>\n",
              "      <td>2018-06-27</td>\n",
              "      <td>40.72693</td>\n",
              "      <td>-73.98385</td>\n",
              "      <td>Manhattan</td>\n",
              "      <td>East Village</td>\n",
              "    </tr>\n",
              "    <tr>\n",
              "      <th>3430</th>\n",
              "      <td>15027024</td>\n",
              "      <td>Newly renovated 1bd on lively &amp; historic St Marks</td>\n",
              "      <td>8344620</td>\n",
              "      <td>Ethan</td>\n",
              "      <td>2</td>\n",
              "      <td>180.0</td>\n",
              "      <td>10</td>\n",
              "      <td>2018-12-31</td>\n",
              "      <td>0.30</td>\n",
              "      <td>0</td>\n",
              "      <td>3.869729</td>\n",
              "      <td>12.0</td>\n",
              "      <td>0.772513</td>\n",
              "      <td>2018-06-27</td>\n",
              "      <td>40.72693</td>\n",
              "      <td>-73.98385</td>\n",
              "      <td>Manhattan</td>\n",
              "      <td>East Village</td>\n",
              "    </tr>\n",
              "    <tr>\n",
              "      <th>7316</th>\n",
              "      <td>31470004</td>\n",
              "      <td>Private bedroom/Bathroom in a 2 bedroom apartment</td>\n",
              "      <td>71241932</td>\n",
              "      <td>Max</td>\n",
              "      <td>1</td>\n",
              "      <td>2500.0</td>\n",
              "      <td>0</td>\n",
              "      <td>2018-04-09</td>\n",
              "      <td>0.00</td>\n",
              "      <td>90</td>\n",
              "      <td>0.000000</td>\n",
              "      <td>0.0</td>\n",
              "      <td>0.000000</td>\n",
              "      <td>2018-04-09</td>\n",
              "      <td>40.72544</td>\n",
              "      <td>-73.97818</td>\n",
              "      <td>Manhattan</td>\n",
              "      <td>East Village</td>\n",
              "    </tr>\n",
              "    <tr>\n",
              "      <th>9322</th>\n",
              "      <td>31470004</td>\n",
              "      <td>Private bedroom/Bathroom in a 2 bedroom apartment</td>\n",
              "      <td>71241932</td>\n",
              "      <td>Max</td>\n",
              "      <td>1</td>\n",
              "      <td>2500.0</td>\n",
              "      <td>0</td>\n",
              "      <td>2018-03-12</td>\n",
              "      <td>0.00</td>\n",
              "      <td>90</td>\n",
              "      <td>0.000000</td>\n",
              "      <td>0.0</td>\n",
              "      <td>0.000000</td>\n",
              "      <td>2018-03-12</td>\n",
              "      <td>40.72544</td>\n",
              "      <td>-73.97818</td>\n",
              "      <td>Manhattan</td>\n",
              "      <td>East Village</td>\n",
              "    </tr>\n",
              "    <tr>\n",
              "      <th>7155</th>\n",
              "      <td>35801208</td>\n",
              "      <td>Comfy 2 bedroom Close To Manhattan</td>\n",
              "      <td>256911412</td>\n",
              "      <td>Taylor</td>\n",
              "      <td>2</td>\n",
              "      <td>101.0</td>\n",
              "      <td>0</td>\n",
              "      <td>2018-10-17</td>\n",
              "      <td>0.00</td>\n",
              "      <td>27</td>\n",
              "      <td>0.000000</td>\n",
              "      <td>0.0</td>\n",
              "      <td>0.000000</td>\n",
              "      <td>2018-10-17</td>\n",
              "      <td>40.70469</td>\n",
              "      <td>-73.93690</td>\n",
              "      <td>Brooklyn</td>\n",
              "      <td>Williamsburg</td>\n",
              "    </tr>\n",
              "    <tr>\n",
              "      <th>9265</th>\n",
              "      <td>35801208</td>\n",
              "      <td>Comfy 2 bedroom Close To Manhattan</td>\n",
              "      <td>256911412</td>\n",
              "      <td>Taylor</td>\n",
              "      <td>2</td>\n",
              "      <td>101.0</td>\n",
              "      <td>0</td>\n",
              "      <td>2018-05-03</td>\n",
              "      <td>0.00</td>\n",
              "      <td>27</td>\n",
              "      <td>0.000000</td>\n",
              "      <td>0.0</td>\n",
              "      <td>0.000000</td>\n",
              "      <td>2018-05-03</td>\n",
              "      <td>40.70469</td>\n",
              "      <td>-73.93690</td>\n",
              "      <td>Brooklyn</td>\n",
              "      <td>Williamsburg</td>\n",
              "    </tr>\n",
              "  </tbody>\n",
              "</table>\n",
              "</div>"
            ],
            "text/plain": [
              "      listing_id  ...     neighbourhood_detailed\n",
              "5761     2044392  ...               Williamsburg\n",
              "8699     2044392  ...               Williamsburg\n",
              "2871     4244242  ...         Bedford-Stuyvesant\n",
              "4187     4244242  ...         Bedford-Stuyvesant\n",
              "77       7319856  ...                   Kips Bay\n",
              "2255     7319856  ...                   Kips Bay\n",
              "555      9078222  ...  Prospect-Lefferts Gardens\n",
              "7933     9078222  ...  Prospect-Lefferts Gardens\n",
              "1481    15027024  ...               East Village\n",
              "3430    15027024  ...               East Village\n",
              "7316    31470004  ...               East Village\n",
              "9322    31470004  ...               East Village\n",
              "7155    35801208  ...               Williamsburg\n",
              "9265    35801208  ...               Williamsburg\n",
              "\n",
              "[14 rows x 18 columns]"
            ]
          },
          "metadata": {},
          "execution_count": 97
        }
      ]
    },
    {
      "cell_type": "code",
      "metadata": {
        "colab": {
          "base_uri": "https://localhost:8080/"
        },
        "id": "Zky9iiPUV1BS",
        "outputId": "6989b768-165f-4389-c920-9d63a099baa5"
      },
      "source": [
        "columns_names = airbnb.columns\n",
        "columns_names"
      ],
      "execution_count": null,
      "outputs": [
        {
          "output_type": "execute_result",
          "data": {
            "text/plain": [
              "Index(['listing_id', 'name', 'host_id', 'host_name', 'room_type', 'price',\n",
              "       'number_of_reviews', 'last_review', 'reviews_per_month',\n",
              "       'availability_365', 'rating', 'number_of_stays', '5_stars',\n",
              "       'listing_added', 'latitude', 'longitude', 'neighbourhood',\n",
              "       'neighbourhood_detailed'],\n",
              "      dtype='object')"
            ]
          },
          "metadata": {},
          "execution_count": 99
        }
      ]
    },
    {
      "cell_type": "code",
      "metadata": {
        "colab": {
          "base_uri": "https://localhost:8080/"
        },
        "id": "1hr3YYB5WSlr",
        "outputId": "f34c601f-0787-4951-817d-e5b1b9527d8e"
      },
      "source": [
        "aggregations = {column_name: 'first' for column_name in columns_names.difference(['listing_id','listing_added', 'last_review','price','rating','number_of_reviews','5_stars','availability_365'])} \n",
        "\n",
        "aggregations['listing_added'] = 'min'\n",
        "aggregations['last_review'] = 'max'\n",
        "aggregations['price'] = 'mean'\n",
        "aggregations['rating'] = 'mean'\n",
        "aggregations['number_of_reviews'] = 'sum'\n",
        "aggregations['5_stars'] = 'mean'\n",
        "aggregations['availability_365'] = 'max'\n",
        "\n",
        "aggregations"
      ],
      "execution_count": null,
      "outputs": [
        {
          "output_type": "execute_result",
          "data": {
            "text/plain": [
              "{'5_stars': 'mean',\n",
              " 'availability_365': 'max',\n",
              " 'host_id': 'first',\n",
              " 'host_name': 'first',\n",
              " 'last_review': 'max',\n",
              " 'latitude': 'first',\n",
              " 'listing_added': 'min',\n",
              " 'longitude': 'first',\n",
              " 'name': 'first',\n",
              " 'neighbourhood': 'first',\n",
              " 'neighbourhood_detailed': 'first',\n",
              " 'number_of_reviews': 'sum',\n",
              " 'number_of_stays': 'first',\n",
              " 'price': 'mean',\n",
              " 'rating': 'mean',\n",
              " 'reviews_per_month': 'first',\n",
              " 'room_type': 'first'}"
            ]
          },
          "metadata": {},
          "execution_count": 102
        }
      ]
    },
    {
      "cell_type": "code",
      "metadata": {
        "id": "gviTN0_6XbXs"
      },
      "source": [
        "airbnb = airbnb.groupby('listing_id').agg(aggregations).reset_index()"
      ],
      "execution_count": null,
      "outputs": []
    },
    {
      "cell_type": "code",
      "metadata": {
        "colab": {
          "base_uri": "https://localhost:8080/",
          "height": 840
        },
        "id": "c47-KIDXXhO6",
        "outputId": "a2379978-b557-4056-db9d-1125ff57c742"
      },
      "source": [
        "airbnb"
      ],
      "execution_count": null,
      "outputs": [
        {
          "output_type": "execute_result",
          "data": {
            "text/html": [
              "<div>\n",
              "<style scoped>\n",
              "    .dataframe tbody tr th:only-of-type {\n",
              "        vertical-align: middle;\n",
              "    }\n",
              "\n",
              "    .dataframe tbody tr th {\n",
              "        vertical-align: top;\n",
              "    }\n",
              "\n",
              "    .dataframe thead th {\n",
              "        text-align: right;\n",
              "    }\n",
              "</style>\n",
              "<table border=\"1\" class=\"dataframe\">\n",
              "  <thead>\n",
              "    <tr style=\"text-align: right;\">\n",
              "      <th></th>\n",
              "      <th>listing_id</th>\n",
              "      <th>host_id</th>\n",
              "      <th>host_name</th>\n",
              "      <th>latitude</th>\n",
              "      <th>longitude</th>\n",
              "      <th>name</th>\n",
              "      <th>neighbourhood</th>\n",
              "      <th>neighbourhood_detailed</th>\n",
              "      <th>number_of_stays</th>\n",
              "      <th>reviews_per_month</th>\n",
              "      <th>room_type</th>\n",
              "      <th>listing_added</th>\n",
              "      <th>last_review</th>\n",
              "      <th>price</th>\n",
              "      <th>rating</th>\n",
              "      <th>number_of_reviews</th>\n",
              "      <th>5_stars</th>\n",
              "      <th>availability_365</th>\n",
              "    </tr>\n",
              "  </thead>\n",
              "  <tbody>\n",
              "    <tr>\n",
              "      <th>0</th>\n",
              "      <td>3831</td>\n",
              "      <td>4869</td>\n",
              "      <td>LisaRoxanne</td>\n",
              "      <td>40.68514</td>\n",
              "      <td>-73.95976</td>\n",
              "      <td>Cozy Entire Floor of Brownstone</td>\n",
              "      <td>Brooklyn</td>\n",
              "      <td>Clinton Hill</td>\n",
              "      <td>324.0</td>\n",
              "      <td>4.64</td>\n",
              "      <td>2</td>\n",
              "      <td>2018-12-30</td>\n",
              "      <td>2019-07-05</td>\n",
              "      <td>89.0</td>\n",
              "      <td>3.273935</td>\n",
              "      <td>270</td>\n",
              "      <td>0.757366</td>\n",
              "      <td>194</td>\n",
              "    </tr>\n",
              "    <tr>\n",
              "      <th>1</th>\n",
              "      <td>6848</td>\n",
              "      <td>15991</td>\n",
              "      <td>Allen &amp; Irina</td>\n",
              "      <td>40.70837</td>\n",
              "      <td>-73.95352</td>\n",
              "      <td>Only 2 stops to Manhattan studio</td>\n",
              "      <td>Brooklyn</td>\n",
              "      <td>Williamsburg</td>\n",
              "      <td>177.6</td>\n",
              "      <td>1.20</td>\n",
              "      <td>2</td>\n",
              "      <td>2018-12-24</td>\n",
              "      <td>2019-06-29</td>\n",
              "      <td>140.0</td>\n",
              "      <td>3.495760</td>\n",
              "      <td>148</td>\n",
              "      <td>0.789743</td>\n",
              "      <td>46</td>\n",
              "    </tr>\n",
              "    <tr>\n",
              "      <th>2</th>\n",
              "      <td>7322</td>\n",
              "      <td>18946</td>\n",
              "      <td>Doti</td>\n",
              "      <td>40.74192</td>\n",
              "      <td>-73.99501</td>\n",
              "      <td>Chelsea Perfect</td>\n",
              "      <td>Manhattan</td>\n",
              "      <td>Chelsea</td>\n",
              "      <td>312.0</td>\n",
              "      <td>2.12</td>\n",
              "      <td>1</td>\n",
              "      <td>2018-12-26</td>\n",
              "      <td>2019-07-01</td>\n",
              "      <td>140.0</td>\n",
              "      <td>4.389051</td>\n",
              "      <td>260</td>\n",
              "      <td>0.669873</td>\n",
              "      <td>12</td>\n",
              "    </tr>\n",
              "    <tr>\n",
              "      <th>3</th>\n",
              "      <td>7726</td>\n",
              "      <td>20950</td>\n",
              "      <td>Adam And Charity</td>\n",
              "      <td>40.67592</td>\n",
              "      <td>-73.94694</td>\n",
              "      <td>Hip Historic Brownstone Apartment with Backyard</td>\n",
              "      <td>Brooklyn</td>\n",
              "      <td>Crown Heights</td>\n",
              "      <td>63.6</td>\n",
              "      <td>4.44</td>\n",
              "      <td>2</td>\n",
              "      <td>2018-12-17</td>\n",
              "      <td>2019-06-22</td>\n",
              "      <td>99.0</td>\n",
              "      <td>3.305382</td>\n",
              "      <td>53</td>\n",
              "      <td>0.640251</td>\n",
              "      <td>21</td>\n",
              "    </tr>\n",
              "    <tr>\n",
              "      <th>4</th>\n",
              "      <td>12303</td>\n",
              "      <td>47618</td>\n",
              "      <td>Yolande</td>\n",
              "      <td>40.69673</td>\n",
              "      <td>-73.97584</td>\n",
              "      <td>1bdr w private bath. in lofty apt</td>\n",
              "      <td>Brooklyn</td>\n",
              "      <td>Fort Greene</td>\n",
              "      <td>30.0</td>\n",
              "      <td>0.23</td>\n",
              "      <td>1</td>\n",
              "      <td>2018-03-27</td>\n",
              "      <td>2018-09-30</td>\n",
              "      <td>120.0</td>\n",
              "      <td>4.568745</td>\n",
              "      <td>25</td>\n",
              "      <td>0.918593</td>\n",
              "      <td>311</td>\n",
              "    </tr>\n",
              "    <tr>\n",
              "      <th>...</th>\n",
              "      <td>...</td>\n",
              "      <td>...</td>\n",
              "      <td>...</td>\n",
              "      <td>...</td>\n",
              "      <td>...</td>\n",
              "      <td>...</td>\n",
              "      <td>...</td>\n",
              "      <td>...</td>\n",
              "      <td>...</td>\n",
              "      <td>...</td>\n",
              "      <td>...</td>\n",
              "      <td>...</td>\n",
              "      <td>...</td>\n",
              "      <td>...</td>\n",
              "      <td>...</td>\n",
              "      <td>...</td>\n",
              "      <td>...</td>\n",
              "      <td>...</td>\n",
              "    </tr>\n",
              "    <tr>\n",
              "      <th>9991</th>\n",
              "      <td>36479230</td>\n",
              "      <td>65767720</td>\n",
              "      <td>Melanie</td>\n",
              "      <td>40.70418</td>\n",
              "      <td>-73.91471</td>\n",
              "      <td>Studio sized room with beautiful light</td>\n",
              "      <td>Brooklyn</td>\n",
              "      <td>Bushwick</td>\n",
              "      <td>0.0</td>\n",
              "      <td>0.00</td>\n",
              "      <td>1</td>\n",
              "      <td>2018-08-21</td>\n",
              "      <td>2018-08-21</td>\n",
              "      <td>42.0</td>\n",
              "      <td>0.000000</td>\n",
              "      <td>0</td>\n",
              "      <td>0.000000</td>\n",
              "      <td>16</td>\n",
              "    </tr>\n",
              "    <tr>\n",
              "      <th>9992</th>\n",
              "      <td>36484665</td>\n",
              "      <td>8232441</td>\n",
              "      <td>Sabrina</td>\n",
              "      <td>40.67853</td>\n",
              "      <td>-73.94995</td>\n",
              "      <td>Charming one bedroom - newly renovated rowhouse</td>\n",
              "      <td>Brooklyn</td>\n",
              "      <td>Bedford-Stuyvesant</td>\n",
              "      <td>0.0</td>\n",
              "      <td>0.00</td>\n",
              "      <td>1</td>\n",
              "      <td>2018-04-19</td>\n",
              "      <td>2018-04-19</td>\n",
              "      <td>70.0</td>\n",
              "      <td>0.000000</td>\n",
              "      <td>0</td>\n",
              "      <td>0.000000</td>\n",
              "      <td>9</td>\n",
              "    </tr>\n",
              "    <tr>\n",
              "      <th>9993</th>\n",
              "      <td>36485057</td>\n",
              "      <td>6570630</td>\n",
              "      <td>Marisol</td>\n",
              "      <td>40.70184</td>\n",
              "      <td>-73.93317</td>\n",
              "      <td>Affordable room in Bushwick/East Williamsburg</td>\n",
              "      <td>Brooklyn</td>\n",
              "      <td>Bushwick</td>\n",
              "      <td>0.0</td>\n",
              "      <td>0.00</td>\n",
              "      <td>1</td>\n",
              "      <td>2018-07-06</td>\n",
              "      <td>2018-07-06</td>\n",
              "      <td>40.0</td>\n",
              "      <td>0.000000</td>\n",
              "      <td>0</td>\n",
              "      <td>0.000000</td>\n",
              "      <td>36</td>\n",
              "    </tr>\n",
              "    <tr>\n",
              "      <th>9994</th>\n",
              "      <td>36485431</td>\n",
              "      <td>23492952</td>\n",
              "      <td>Ilgar &amp; Aysel</td>\n",
              "      <td>40.81475</td>\n",
              "      <td>-73.94867</td>\n",
              "      <td>Sunny Studio at Historical Neighborhood</td>\n",
              "      <td>Manhattan</td>\n",
              "      <td>Harlem</td>\n",
              "      <td>0.0</td>\n",
              "      <td>0.00</td>\n",
              "      <td>2</td>\n",
              "      <td>2018-07-26</td>\n",
              "      <td>2018-07-26</td>\n",
              "      <td>115.0</td>\n",
              "      <td>0.000000</td>\n",
              "      <td>0</td>\n",
              "      <td>0.000000</td>\n",
              "      <td>27</td>\n",
              "    </tr>\n",
              "    <tr>\n",
              "      <th>9995</th>\n",
              "      <td>36487245</td>\n",
              "      <td>68119814</td>\n",
              "      <td>Christophe</td>\n",
              "      <td>40.76404</td>\n",
              "      <td>-73.98933</td>\n",
              "      <td>Trendy duplex in the very heart of Hell's Kitchen</td>\n",
              "      <td>Manhattan</td>\n",
              "      <td>Hell's Kitchen</td>\n",
              "      <td>0.0</td>\n",
              "      <td>0.00</td>\n",
              "      <td>1</td>\n",
              "      <td>2018-10-02</td>\n",
              "      <td>2018-10-02</td>\n",
              "      <td>90.0</td>\n",
              "      <td>0.000000</td>\n",
              "      <td>0</td>\n",
              "      <td>0.000000</td>\n",
              "      <td>23</td>\n",
              "    </tr>\n",
              "  </tbody>\n",
              "</table>\n",
              "<p>9996 rows × 18 columns</p>\n",
              "</div>"
            ],
            "text/plain": [
              "      listing_id   host_id  ...   5_stars  availability_365\n",
              "0           3831      4869  ...  0.757366               194\n",
              "1           6848     15991  ...  0.789743                46\n",
              "2           7322     18946  ...  0.669873                12\n",
              "3           7726     20950  ...  0.640251                21\n",
              "4          12303     47618  ...  0.918593               311\n",
              "...          ...       ...  ...       ...               ...\n",
              "9991    36479230  65767720  ...  0.000000                16\n",
              "9992    36484665   8232441  ...  0.000000                 9\n",
              "9993    36485057   6570630  ...  0.000000                36\n",
              "9994    36485431  23492952  ...  0.000000                27\n",
              "9995    36487245  68119814  ...  0.000000                23\n",
              "\n",
              "[9996 rows x 18 columns]"
            ]
          },
          "metadata": {},
          "execution_count": 104
        }
      ]
    },
    {
      "cell_type": "code",
      "metadata": {
        "colab": {
          "base_uri": "https://localhost:8080/",
          "height": 69
        },
        "id": "1kOpVzODXnnv",
        "outputId": "78ec8c53-0a32-425a-cb2f-819164fc0e01"
      },
      "source": [
        "airbnb[airbnb.duplicated(subset='listing_id', keep=False)]"
      ],
      "execution_count": null,
      "outputs": [
        {
          "output_type": "execute_result",
          "data": {
            "text/html": [
              "<div>\n",
              "<style scoped>\n",
              "    .dataframe tbody tr th:only-of-type {\n",
              "        vertical-align: middle;\n",
              "    }\n",
              "\n",
              "    .dataframe tbody tr th {\n",
              "        vertical-align: top;\n",
              "    }\n",
              "\n",
              "    .dataframe thead th {\n",
              "        text-align: right;\n",
              "    }\n",
              "</style>\n",
              "<table border=\"1\" class=\"dataframe\">\n",
              "  <thead>\n",
              "    <tr style=\"text-align: right;\">\n",
              "      <th></th>\n",
              "      <th>listing_id</th>\n",
              "      <th>host_id</th>\n",
              "      <th>host_name</th>\n",
              "      <th>latitude</th>\n",
              "      <th>longitude</th>\n",
              "      <th>name</th>\n",
              "      <th>neighbourhood</th>\n",
              "      <th>neighbourhood_detailed</th>\n",
              "      <th>number_of_stays</th>\n",
              "      <th>reviews_per_month</th>\n",
              "      <th>room_type</th>\n",
              "      <th>listing_added</th>\n",
              "      <th>last_review</th>\n",
              "      <th>price</th>\n",
              "      <th>rating</th>\n",
              "      <th>number_of_reviews</th>\n",
              "      <th>5_stars</th>\n",
              "      <th>availability_365</th>\n",
              "    </tr>\n",
              "  </thead>\n",
              "  <tbody>\n",
              "  </tbody>\n",
              "</table>\n",
              "</div>"
            ],
            "text/plain": [
              "Empty DataFrame\n",
              "Columns: [listing_id, host_id, host_name, latitude, longitude, name, neighbourhood, neighbourhood_detailed, number_of_stays, reviews_per_month, room_type, listing_added, last_review, price, rating, number_of_reviews, 5_stars, availability_365]\n",
              "Index: []"
            ]
          },
          "metadata": {},
          "execution_count": 107
        }
      ]
    },
    {
      "cell_type": "markdown",
      "metadata": {
        "id": "41W6SM2gq6ri"
      },
      "source": [
        "### 9) Qual é o preço médio das listagens por bairro? Veja seus resultados com um gráfico de barras!\n"
      ]
    },
    {
      "cell_type": "code",
      "metadata": {
        "id": "gy36BFUfq6Li",
        "colab": {
          "base_uri": "https://localhost:8080/",
          "height": 203
        },
        "outputId": "5c4bfbdd-6b1a-4178-8a14-a3d1263c3a74"
      },
      "source": [
        "airbnb.groupby('neighbourhood').agg({'price': 'mean'}).reset_index()"
      ],
      "execution_count": null,
      "outputs": [
        {
          "output_type": "execute_result",
          "data": {
            "text/html": [
              "<div>\n",
              "<style scoped>\n",
              "    .dataframe tbody tr th:only-of-type {\n",
              "        vertical-align: middle;\n",
              "    }\n",
              "\n",
              "    .dataframe tbody tr th {\n",
              "        vertical-align: top;\n",
              "    }\n",
              "\n",
              "    .dataframe thead th {\n",
              "        text-align: right;\n",
              "    }\n",
              "</style>\n",
              "<table border=\"1\" class=\"dataframe\">\n",
              "  <thead>\n",
              "    <tr style=\"text-align: right;\">\n",
              "      <th></th>\n",
              "      <th>neighbourhood</th>\n",
              "      <th>price</th>\n",
              "    </tr>\n",
              "  </thead>\n",
              "  <tbody>\n",
              "    <tr>\n",
              "      <th>0</th>\n",
              "      <td>Bronx</td>\n",
              "      <td>89.229784</td>\n",
              "    </tr>\n",
              "    <tr>\n",
              "      <th>1</th>\n",
              "      <td>Brooklyn</td>\n",
              "      <td>124.056895</td>\n",
              "    </tr>\n",
              "    <tr>\n",
              "      <th>2</th>\n",
              "      <td>Manhattan</td>\n",
              "      <td>193.215425</td>\n",
              "    </tr>\n",
              "    <tr>\n",
              "      <th>3</th>\n",
              "      <td>Queens</td>\n",
              "      <td>97.984487</td>\n",
              "    </tr>\n",
              "    <tr>\n",
              "      <th>4</th>\n",
              "      <td>Staten Island</td>\n",
              "      <td>93.941306</td>\n",
              "    </tr>\n",
              "  </tbody>\n",
              "</table>\n",
              "</div>"
            ],
            "text/plain": [
              "   neighbourhood       price\n",
              "0          Bronx   89.229784\n",
              "1       Brooklyn  124.056895\n",
              "2      Manhattan  193.215425\n",
              "3         Queens   97.984487\n",
              "4  Staten Island   93.941306"
            ]
          },
          "metadata": {},
          "execution_count": 108
        }
      ]
    },
    {
      "cell_type": "markdown",
      "metadata": {
        "id": "BQk4BFtrq-h7"
      },
      "source": [
        "### 10) Qual é a disponibilidade média em dias de anúncios por bairro? Veja seus resultados com um gráfico de barras!\n"
      ]
    },
    {
      "cell_type": "code",
      "metadata": {
        "id": "VzbFlG_GrAB9",
        "colab": {
          "base_uri": "https://localhost:8080/",
          "height": 203
        },
        "outputId": "b449832e-399d-4ff7-8efa-d28db73cb9de"
      },
      "source": [
        "airbnb.groupby('neighbourhood').agg({'availability_365': 'mean'}).reset_index()"
      ],
      "execution_count": null,
      "outputs": [
        {
          "output_type": "execute_result",
          "data": {
            "text/html": [
              "<div>\n",
              "<style scoped>\n",
              "    .dataframe tbody tr th:only-of-type {\n",
              "        vertical-align: middle;\n",
              "    }\n",
              "\n",
              "    .dataframe tbody tr th {\n",
              "        vertical-align: top;\n",
              "    }\n",
              "\n",
              "    .dataframe thead th {\n",
              "        text-align: right;\n",
              "    }\n",
              "</style>\n",
              "<table border=\"1\" class=\"dataframe\">\n",
              "  <thead>\n",
              "    <tr style=\"text-align: right;\">\n",
              "      <th></th>\n",
              "      <th>neighbourhood</th>\n",
              "      <th>availability_365</th>\n",
              "    </tr>\n",
              "  </thead>\n",
              "  <tbody>\n",
              "    <tr>\n",
              "      <th>0</th>\n",
              "      <td>Bronx</td>\n",
              "      <td>146.716157</td>\n",
              "    </tr>\n",
              "    <tr>\n",
              "      <th>1</th>\n",
              "      <td>Brooklyn</td>\n",
              "      <td>99.558528</td>\n",
              "    </tr>\n",
              "    <tr>\n",
              "      <th>2</th>\n",
              "      <td>Manhattan</td>\n",
              "      <td>112.180937</td>\n",
              "    </tr>\n",
              "    <tr>\n",
              "      <th>3</th>\n",
              "      <td>Queens</td>\n",
              "      <td>143.851820</td>\n",
              "    </tr>\n",
              "    <tr>\n",
              "      <th>4</th>\n",
              "      <td>Staten Island</td>\n",
              "      <td>214.205479</td>\n",
              "    </tr>\n",
              "  </tbody>\n",
              "</table>\n",
              "</div>"
            ],
            "text/plain": [
              "   neighbourhood  availability_365\n",
              "0          Bronx        146.716157\n",
              "1       Brooklyn         99.558528\n",
              "2      Manhattan        112.180937\n",
              "3         Queens        143.851820\n",
              "4  Staten Island        214.205479"
            ]
          },
          "metadata": {},
          "execution_count": 110
        }
      ]
    },
    {
      "cell_type": "markdown",
      "metadata": {
        "id": "6ERYG4GlrAcO"
      },
      "source": [
        "### 11) Qual é o preço médio por tipo de quarto em cada bairro? Veja seus resultados com um gráfico de barras! "
      ]
    },
    {
      "cell_type": "code",
      "metadata": {
        "id": "jFBlxPlCrDPg"
      },
      "source": [
        "airbnb_group_neigh_price = airbnb.groupby(['room_type','neighbourhood']).agg({'price': 'mean'}).reset_index()"
      ],
      "execution_count": null,
      "outputs": []
    },
    {
      "cell_type": "code",
      "metadata": {
        "colab": {
          "base_uri": "https://localhost:8080/",
          "height": 297
        },
        "id": "cje36TM0da9X",
        "outputId": "5cf11eec-c7f1-4849-8f31-4203b24df9ae"
      },
      "source": [
        "sns.barplot(x = airbnb_group_neigh_price['neighbourhood'], y = airbnb_group_neigh_price['price'], data = airbnb_group_neigh_price)\n"
      ],
      "execution_count": null,
      "outputs": [
        {
          "output_type": "execute_result",
          "data": {
            "text/plain": [
              "<matplotlib.axes._subplots.AxesSubplot at 0x7fa5c3053850>"
            ]
          },
          "metadata": {},
          "execution_count": 120
        },
        {
          "output_type": "display_data",
          "data": {
            "image/png": "[encoded data removed]",
            "text/plain": [
              "<Figure size 432x288 with 1 Axes>"
            ]
          },
          "metadata": {
            "needs_background": "light"
          }
        }
      ]
    },
    {
      "cell_type": "code",
      "metadata": {
        "colab": {
          "base_uri": "https://localhost:8080/",
          "height": 840
        },
        "id": "F7xhrRYZY5ZF",
        "outputId": "657a1974-f4be-4490-f1aa-dda21bda6e45"
      },
      "source": [
        "airbnb"
      ],
      "execution_count": null,
      "outputs": [
        {
          "output_type": "execute_result",
          "data": {
            "text/html": [
              "<div>\n",
              "<style scoped>\n",
              "    .dataframe tbody tr th:only-of-type {\n",
              "        vertical-align: middle;\n",
              "    }\n",
              "\n",
              "    .dataframe tbody tr th {\n",
              "        vertical-align: top;\n",
              "    }\n",
              "\n",
              "    .dataframe thead th {\n",
              "        text-align: right;\n",
              "    }\n",
              "</style>\n",
              "<table border=\"1\" class=\"dataframe\">\n",
              "  <thead>\n",
              "    <tr style=\"text-align: right;\">\n",
              "      <th></th>\n",
              "      <th>listing_id</th>\n",
              "      <th>host_id</th>\n",
              "      <th>host_name</th>\n",
              "      <th>latitude</th>\n",
              "      <th>longitude</th>\n",
              "      <th>name</th>\n",
              "      <th>neighbourhood</th>\n",
              "      <th>neighbourhood_detailed</th>\n",
              "      <th>number_of_stays</th>\n",
              "      <th>reviews_per_month</th>\n",
              "      <th>room_type</th>\n",
              "      <th>listing_added</th>\n",
              "      <th>last_review</th>\n",
              "      <th>price</th>\n",
              "      <th>rating</th>\n",
              "      <th>number_of_reviews</th>\n",
              "      <th>5_stars</th>\n",
              "      <th>availability_365</th>\n",
              "    </tr>\n",
              "  </thead>\n",
              "  <tbody>\n",
              "    <tr>\n",
              "      <th>0</th>\n",
              "      <td>3831</td>\n",
              "      <td>4869</td>\n",
              "      <td>LisaRoxanne</td>\n",
              "      <td>40.68514</td>\n",
              "      <td>-73.95976</td>\n",
              "      <td>Cozy Entire Floor of Brownstone</td>\n",
              "      <td>Brooklyn</td>\n",
              "      <td>Clinton Hill</td>\n",
              "      <td>324.0</td>\n",
              "      <td>4.64</td>\n",
              "      <td>2</td>\n",
              "      <td>2018-12-30</td>\n",
              "      <td>2019-07-05</td>\n",
              "      <td>89.0</td>\n",
              "      <td>3.273935</td>\n",
              "      <td>270</td>\n",
              "      <td>0.757366</td>\n",
              "      <td>194</td>\n",
              "    </tr>\n",
              "    <tr>\n",
              "      <th>1</th>\n",
              "      <td>6848</td>\n",
              "      <td>15991</td>\n",
              "      <td>Allen &amp; Irina</td>\n",
              "      <td>40.70837</td>\n",
              "      <td>-73.95352</td>\n",
              "      <td>Only 2 stops to Manhattan studio</td>\n",
              "      <td>Brooklyn</td>\n",
              "      <td>Williamsburg</td>\n",
              "      <td>177.6</td>\n",
              "      <td>1.20</td>\n",
              "      <td>2</td>\n",
              "      <td>2018-12-24</td>\n",
              "      <td>2019-06-29</td>\n",
              "      <td>140.0</td>\n",
              "      <td>3.495760</td>\n",
              "      <td>148</td>\n",
              "      <td>0.789743</td>\n",
              "      <td>46</td>\n",
              "    </tr>\n",
              "    <tr>\n",
              "      <th>2</th>\n",
              "      <td>7322</td>\n",
              "      <td>18946</td>\n",
              "      <td>Doti</td>\n",
              "      <td>40.74192</td>\n",
              "      <td>-73.99501</td>\n",
              "      <td>Chelsea Perfect</td>\n",
              "      <td>Manhattan</td>\n",
              "      <td>Chelsea</td>\n",
              "      <td>312.0</td>\n",
              "      <td>2.12</td>\n",
              "      <td>1</td>\n",
              "      <td>2018-12-26</td>\n",
              "      <td>2019-07-01</td>\n",
              "      <td>140.0</td>\n",
              "      <td>4.389051</td>\n",
              "      <td>260</td>\n",
              "      <td>0.669873</td>\n",
              "      <td>12</td>\n",
              "    </tr>\n",
              "    <tr>\n",
              "      <th>3</th>\n",
              "      <td>7726</td>\n",
              "      <td>20950</td>\n",
              "      <td>Adam And Charity</td>\n",
              "      <td>40.67592</td>\n",
              "      <td>-73.94694</td>\n",
              "      <td>Hip Historic Brownstone Apartment with Backyard</td>\n",
              "      <td>Brooklyn</td>\n",
              "      <td>Crown Heights</td>\n",
              "      <td>63.6</td>\n",
              "      <td>4.44</td>\n",
              "      <td>2</td>\n",
              "      <td>2018-12-17</td>\n",
              "      <td>2019-06-22</td>\n",
              "      <td>99.0</td>\n",
              "      <td>3.305382</td>\n",
              "      <td>53</td>\n",
              "      <td>0.640251</td>\n",
              "      <td>21</td>\n",
              "    </tr>\n",
              "    <tr>\n",
              "      <th>4</th>\n",
              "      <td>12303</td>\n",
              "      <td>47618</td>\n",
              "      <td>Yolande</td>\n",
              "      <td>40.69673</td>\n",
              "      <td>-73.97584</td>\n",
              "      <td>1bdr w private bath. in lofty apt</td>\n",
              "      <td>Brooklyn</td>\n",
              "      <td>Fort Greene</td>\n",
              "      <td>30.0</td>\n",
              "      <td>0.23</td>\n",
              "      <td>1</td>\n",
              "      <td>2018-03-27</td>\n",
              "      <td>2018-09-30</td>\n",
              "      <td>120.0</td>\n",
              "      <td>4.568745</td>\n",
              "      <td>25</td>\n",
              "      <td>0.918593</td>\n",
              "      <td>311</td>\n",
              "    </tr>\n",
              "    <tr>\n",
              "      <th>...</th>\n",
              "      <td>...</td>\n",
              "      <td>...</td>\n",
              "      <td>...</td>\n",
              "      <td>...</td>\n",
              "      <td>...</td>\n",
              "      <td>...</td>\n",
              "      <td>...</td>\n",
              "      <td>...</td>\n",
              "      <td>...</td>\n",
              "      <td>...</td>\n",
              "      <td>...</td>\n",
              "      <td>...</td>\n",
              "      <td>...</td>\n",
              "      <td>...</td>\n",
              "      <td>...</td>\n",
              "      <td>...</td>\n",
              "      <td>...</td>\n",
              "      <td>...</td>\n",
              "    </tr>\n",
              "    <tr>\n",
              "      <th>9991</th>\n",
              "      <td>36479230</td>\n",
              "      <td>65767720</td>\n",
              "      <td>Melanie</td>\n",
              "      <td>40.70418</td>\n",
              "      <td>-73.91471</td>\n",
              "      <td>Studio sized room with beautiful light</td>\n",
              "      <td>Brooklyn</td>\n",
              "      <td>Bushwick</td>\n",
              "      <td>0.0</td>\n",
              "      <td>0.00</td>\n",
              "      <td>1</td>\n",
              "      <td>2018-08-21</td>\n",
              "      <td>2018-08-21</td>\n",
              "      <td>42.0</td>\n",
              "      <td>0.000000</td>\n",
              "      <td>0</td>\n",
              "      <td>0.000000</td>\n",
              "      <td>16</td>\n",
              "    </tr>\n",
              "    <tr>\n",
              "      <th>9992</th>\n",
              "      <td>36484665</td>\n",
              "      <td>8232441</td>\n",
              "      <td>Sabrina</td>\n",
              "      <td>40.67853</td>\n",
              "      <td>-73.94995</td>\n",
              "      <td>Charming one bedroom - newly renovated rowhouse</td>\n",
              "      <td>Brooklyn</td>\n",
              "      <td>Bedford-Stuyvesant</td>\n",
              "      <td>0.0</td>\n",
              "      <td>0.00</td>\n",
              "      <td>1</td>\n",
              "      <td>2018-04-19</td>\n",
              "      <td>2018-04-19</td>\n",
              "      <td>70.0</td>\n",
              "      <td>0.000000</td>\n",
              "      <td>0</td>\n",
              "      <td>0.000000</td>\n",
              "      <td>9</td>\n",
              "    </tr>\n",
              "    <tr>\n",
              "      <th>9993</th>\n",
              "      <td>36485057</td>\n",
              "      <td>6570630</td>\n",
              "      <td>Marisol</td>\n",
              "      <td>40.70184</td>\n",
              "      <td>-73.93317</td>\n",
              "      <td>Affordable room in Bushwick/East Williamsburg</td>\n",
              "      <td>Brooklyn</td>\n",
              "      <td>Bushwick</td>\n",
              "      <td>0.0</td>\n",
              "      <td>0.00</td>\n",
              "      <td>1</td>\n",
              "      <td>2018-07-06</td>\n",
              "      <td>2018-07-06</td>\n",
              "      <td>40.0</td>\n",
              "      <td>0.000000</td>\n",
              "      <td>0</td>\n",
              "      <td>0.000000</td>\n",
              "      <td>36</td>\n",
              "    </tr>\n",
              "    <tr>\n",
              "      <th>9994</th>\n",
              "      <td>36485431</td>\n",
              "      <td>23492952</td>\n",
              "      <td>Ilgar &amp; Aysel</td>\n",
              "      <td>40.81475</td>\n",
              "      <td>-73.94867</td>\n",
              "      <td>Sunny Studio at Historical Neighborhood</td>\n",
              "      <td>Manhattan</td>\n",
              "      <td>Harlem</td>\n",
              "      <td>0.0</td>\n",
              "      <td>0.00</td>\n",
              "      <td>2</td>\n",
              "      <td>2018-07-26</td>\n",
              "      <td>2018-07-26</td>\n",
              "      <td>115.0</td>\n",
              "      <td>0.000000</td>\n",
              "      <td>0</td>\n",
              "      <td>0.000000</td>\n",
              "      <td>27</td>\n",
              "    </tr>\n",
              "    <tr>\n",
              "      <th>9995</th>\n",
              "      <td>36487245</td>\n",
              "      <td>68119814</td>\n",
              "      <td>Christophe</td>\n",
              "      <td>40.76404</td>\n",
              "      <td>-73.98933</td>\n",
              "      <td>Trendy duplex in the very heart of Hell's Kitchen</td>\n",
              "      <td>Manhattan</td>\n",
              "      <td>Hell's Kitchen</td>\n",
              "      <td>0.0</td>\n",
              "      <td>0.00</td>\n",
              "      <td>1</td>\n",
              "      <td>2018-10-02</td>\n",
              "      <td>2018-10-02</td>\n",
              "      <td>90.0</td>\n",
              "      <td>0.000000</td>\n",
              "      <td>0</td>\n",
              "      <td>0.000000</td>\n",
              "      <td>23</td>\n",
              "    </tr>\n",
              "  </tbody>\n",
              "</table>\n",
              "<p>9996 rows × 18 columns</p>\n",
              "</div>"
            ],
            "text/plain": [
              "      listing_id   host_id  ...   5_stars  availability_365\n",
              "0           3831      4869  ...  0.757366               194\n",
              "1           6848     15991  ...  0.789743                46\n",
              "2           7322     18946  ...  0.669873                12\n",
              "3           7726     20950  ...  0.640251                21\n",
              "4          12303     47618  ...  0.918593               311\n",
              "...          ...       ...  ...       ...               ...\n",
              "9991    36479230  65767720  ...  0.000000                16\n",
              "9992    36484665   8232441  ...  0.000000                 9\n",
              "9993    36485057   6570630  ...  0.000000                36\n",
              "9994    36485431  23492952  ...  0.000000                27\n",
              "9995    36487245  68119814  ...  0.000000                23\n",
              "\n",
              "[9996 rows x 18 columns]"
            ]
          },
          "metadata": {},
          "execution_count": 112
        }
      ]
    }
  ]
}